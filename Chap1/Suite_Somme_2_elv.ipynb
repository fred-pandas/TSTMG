{
 "cells": [
  {
   "cell_type": "markdown",
   "metadata": {},
   "source": [
    "<img src=\"https://raw.githubusercontent.com/lyceeHM/Terminale_Spe/master/python_lycee.png\">\n",
    "<div id=\"titre\">\n",
    "<h1 style=\"color:white;\n",
    "  font-family:Comic Sans MS;\n",
    "  font-size:3em;\n",
    "  background-color:black;\n",
    "  text-align:center;\n",
    "  padding:5px\">Rappels & sommes (2)</h1>\n",
    "<div style=\"font-family:Comic Sans MS; background-color:#888;box-shadow: 8px 8px 0px #aaa; text-align:center; width: 50%; color:white\">TSTMG : Chapitre 1 - Suites numériques</div>\n",
    "</div>"
   ]
  },
  {
   "cell_type": "markdown",
   "metadata": {},
   "source": [
    "<h1 style=\"font-size:3em;font-weight:bold\">A. Premier exemple</h1> "
   ]
  },
  {
   "cell_type": "markdown",
   "metadata": {},
   "source": [
    "<blockquote style=\"border-left: 5px solid black;background-color:#AAA\">\n",
    "    <ul>\n",
    "        <li> Considérons les nombres $3$, $6$, $12$, $24$, $48$, $96$ et $192$.\n",
    "            <br> Ce sont les termes d'une suite $\\left(u_n\\right)$ avec $u_0=3$.</li>\n",
    "        <li> On note $S$ la somme de ces nombres : $$S = 3+6+12+24+48+96+192$$ </li>\n",
    "    </ul>\n",
    " </blockquote>"
   ]
  },
  {
   "cell_type": "markdown",
   "metadata": {},
   "source": [
    "<span style=\"color:black;font-size:2em;font-weight:bold\">1.</span>&nbsp; <b>Nature de la suite $\\left(u_n\\right)$</b>\n",
    "<br><span style=\"color:black;font-size:1.5em;font-weight:bold\">a.</span>&nbsp; Compléter :\n",
    "<blockquote style=\"border-left: 3px solid black;background-color:white\">\n",
    "    <ul>\n",
    "        <li> On passe d'un terme à l'autre en ......... le nombre .....</li>\n",
    "        <li> $u_{n+1} = u_n \\times \\ldots$</li>\n",
    "    </ul>\n",
    "</blockquote>\n",
    "<span style=\"color:black;font-size:1.5em;font-weight:bold\">b.</span>&nbsp;  Préciser la nature de la suite $\\left(u_n\\right)$ et sa raison $q$."
   ]
  },
  {
   "cell_type": "markdown",
   "metadata": {},
   "source": [
    "<span style=\"color:black;font-size:2em;font-weight:bold\">2.</span>&nbsp; <b>Expression du terme général $u_n$</b> <br><span style=\"color:black;font-size:1.5em;font-weight:bold\">a.</span>&nbsp; Compléter :\n",
    "<blockquote style=\"border-left: 3px solid black;background-color:white\">\n",
    "    <ul>\n",
    "        <li> $u_1=u_0\\times q^{\\cdots} $</li>\n",
    "        <li> $u_2=u_0\\times q^{\\cdots} $</li>\n",
    "        <li> $u_3=u_0\\times q^{\\cdots} $</li>\n",
    "        <li> $u_n=u_0\\times q^{\\cdots} $</li>\n",
    "    </ul>\n",
    "</blockquote>\n",
    "<span style=\"color:black;font-size:1.5em;font-weight:bold\">b.</span>&nbsp;  Compléter : \n",
    "<blockquote style=\"border-left: 3px solid black;background-color:white\">\n",
    "Ces nombres sont les $u_n = 3 \\times \\ldots$ pour $n$ allant de $0$ à $6$.\n",
    "</blockquote>\n",
    "<br><span style=\"color:black;font-size:1.5em;font-weight:bold\">c.</span>&nbsp; Compléter l'instruction ci-dessous pour obtenir la liste <code style=\"background-color:white\">L</code> de ces nombres. "
   ]
  },
  {
   "cell_type": "code",
   "execution_count": null,
   "metadata": {},
   "outputs": [],
   "source": [
    "L = [... for n in range(7)]\n",
    "L"
   ]
  },
  {
   "cell_type": "markdown",
   "metadata": {},
   "source": [
    "<span style=\"color:black;font-size:2em;font-weight:bold\">3.</span>&nbsp; <b>Calcul de $S$ avec Python</b>\n",
    "<br><span style=\"color:black;font-size:1.5em;font-weight:bold\">a.</span>&nbsp; Compléter ${\\displaystyle S=\\sum_{k=\\ldots}^{\\cdots}u_{k}}$\n",
    "<br><span style=\"color:black;font-size:1.5em;font-weight:bold\">a.</span>&nbsp; <b>Première façon :</b> Exécuter l'instruction suivante"
   ]
  },
  {
   "cell_type": "code",
   "execution_count": null,
   "metadata": {},
   "outputs": [],
   "source": [
    "sum(L)"
   ]
  },
  {
   "cell_type": "markdown",
   "metadata": {},
   "source": [
    "<br><span style=\"color:black;font-size:1.5em;font-weight:bold\">b.</span>&nbsp; <b>Deuxième façon :</b> Utilisons une variable <code style=\"background-color:white\">S</code>, compléter le code suivant :"
   ]
  },
  {
   "cell_type": "code",
   "execution_count": null,
   "metadata": {},
   "outputs": [],
   "source": [
    "S = 0\n",
    "for u in L:\n",
    "    S = S ...\n",
    "S"
   ]
  },
  {
   "cell_type": "markdown",
   "metadata": {},
   "source": [
    "<span style=\"color:black;font-size:2em;font-weight:bold\">4.</span>&nbsp; <b>Calcul de $S$ \"à la main\"</b>\n",
    "<blockquote style=\"border-left: 3px solid black;background-color:white\">\n",
    "Ecrivons de deux façons la somme $S$ :\n",
    "$$\\begin{array}{ccccccccccccccc}\n",
    "S & = & u_0 & + & u_1 & + & u_2 & + & u_3 & + & u_4 & + & u_5 & + & u_6 \\ \\color{red}{\\longleftarrow L_{1}}\\\\\n",
    "qS & = & u_1 & + & \\ldots & + & \\ldots & + & \\ldots & + & \\ldots & + & \\ldots & + & \\ldots\\ \\color{red}{\\longleftarrow L_{2}}\n",
    "\\end{array}$$\n",
    "</blockquote>\n",
    "<br><span style=\"color:black;font-size:1.5em;font-weight:bold\">a.</span>&nbsp; Compléter chaque pointillés.\n",
    "<br><span style=\"color:black;font-size:1.5em;font-weight:bold\">b.</span>&nbsp; Compléter : \n",
    "<blockquote style=\"border-left: 3px solid black;background-color:white\"> \n",
    "    La différence des deux lignes $\\color{red}{L_{2}-L_{1}}$ donne : $$(1-q)S=u_7 - u_0$$\n",
    "Ainsi $$S=u_0\\times \\dfrac{\\cdots\\cdots\\cdots}{\\cdots\\cdots\\cdots}.$$\n",
    "</blockquote>\n",
    "<span style=\"color:black;font-size:1.5em;font-weight:bold\">c.</span>&nbsp; En déduire $S$.\n",
    "<br>\n",
    "<br>\n",
    " <div style=\"color:black;font-size:2em;font-weight:bold\">A retenir :</div> \n",
    " <blockquote style=\"border-left: 5px solid black;background-color:pink\">\n",
    "    La somme de termes consécutifs d'une suite <b>géométrique</b>, de raison $\\neq 1$, est égale à $$\\boxed{\\left(\\text{premier terme}\\right)\\times\\dfrac{1\\,-\\,q^{\\text{nombre de termes figurant dans la somme}}}{1\\,-\\,q}}\\,\\,$$\n",
    "    \n",
    " </blockquote>"
   ]
  },
  {
   "cell_type": "markdown",
   "metadata": {},
   "source": [
    "<h1 style=\"font-size:3em;font-weight:bold\">B. Applications</h1> "
   ]
  },
  {
   "cell_type": "markdown",
   "metadata": {},
   "source": [
    "## Application 1"
   ]
  },
  {
   "cell_type": "markdown",
   "metadata": {},
   "source": [
    "<blockquote style=\"border-left: 3px solid black;background-color:white\">\n",
    "On considère la suite de nombres d'une suite géométrique (arrondis au dixième près) :<br>  $1000.0$, $1100.0$, $1210.0$, $1331.0$, $1464.1$, $1610.5$, $1771.6$.\n",
    "</blockquote>\n",
    "<br><span style=\"color:black;font-size:2em;font-weight:bold\">1.</span>&nbsp; Construire par <span style=\"font-size:1em;\">&ldquo;</span>compréhension<span style=\"font-size:1em;\">&rdquo;</span> la liste <code style=\"background-color:white\">L</code> de ces termes."
   ]
  },
  {
   "cell_type": "code",
   "execution_count": null,
   "metadata": {},
   "outputs": [],
   "source": []
  },
  {
   "cell_type": "markdown",
   "metadata": {},
   "source": [
    "<br><span style=\"color:black;font-size:2em;font-weight:bold\">2.</span>&nbsp; En déduire la somme de ces nombres."
   ]
  },
  {
   "cell_type": "code",
   "execution_count": null,
   "metadata": {},
   "outputs": [],
   "source": []
  },
  {
   "cell_type": "markdown",
   "metadata": {},
   "source": [
    "<br><span style=\"color:black;font-size:2em;font-weight:bold\">3.</span>&nbsp; Retrouver cette somme par le calcul."
   ]
  },
  {
   "cell_type": "markdown",
   "metadata": {},
   "source": [
    "## Application 2"
   ]
  },
  {
   "cell_type": "markdown",
   "metadata": {},
   "source": [
    "<blockquote style=\"border-left: 3px solid black;background-color:white\">\n",
    " Le $1^{\\text{er}}$ janvier 2020, Tic place sur son assurance vie $500\\,€$ et au début de chaque année pendant 20 ans, il verse cette même somme.\n",
    "    <br> Son assurance vie lui fait fructifier son capital déposé à hauteur de $4\\%$ par an.\n",
    "    <br>\n",
    "    <br>On note :\n",
    "<ul>\n",
    "    <li> $v_0=500$ le capital initialement placé</li>\n",
    "    <li> $v_n$ le capital obtenu par l'assurance vie au bout de $n$ années  </li>\n",
    "</ul>\n",
    "</blockquote>\n",
    "<br><span style=\"color:black;font-size:2em;font-weight:bold\">1.</span>&nbsp;  Calculer $v_1$, $v_2$, $v_3$.\n",
    "<br>\n",
    "<br><span style=\"color:black;font-size:2em;font-weight:bold\">2.</span>&nbsp; Déterminer $v_n$  en fonction de $n$.\n",
    "<br>\n",
    "<br><span style=\"color:black;font-size:2em;font-weight:bold\">3.</span>&nbsp; Justifier que la valeur acquise par le premier versement au bout des 20 ans est $500\\times 1,03^{20}$\n",
    "<br>\n",
    "<br><span style=\"color:black;font-size:2em;font-weight:bold\">4.</span>&nbsp; Combien a rapporté le deuxième versement au bout des 19 ans ?\n",
    "<br>\n",
    "<br><span style=\"color:black;font-size:2em;font-weight:bold\">5.</span>&nbsp; Combien a rapporté le 20-ième (et dernier) versement au bout d'un an ?\n",
    "<br>\n",
    "<br><span style=\"color:black;font-size:2em;font-weight:bold\">6.</span>&nbsp; Construire par <span style=\"font-size:1em;\">&ldquo;</span>compréhension<span style=\"font-size:1em;\">&rdquo;</span> la liste <code style=\"background-color:white\">L</code> contenant les 20 valeurs acquises par Tic."
   ]
  },
  {
   "cell_type": "code",
   "execution_count": null,
   "metadata": {},
   "outputs": [],
   "source": []
  },
  {
   "cell_type": "markdown",
   "metadata": {},
   "source": [
    "<br><span style=\"color:black;font-size:2em;font-weight:bold\">7.</span>&nbsp; En déduire la somme de ces nombres."
   ]
  },
  {
   "cell_type": "code",
   "execution_count": null,
   "metadata": {},
   "outputs": [],
   "source": []
  },
  {
   "cell_type": "markdown",
   "metadata": {},
   "source": [
    "<br><span style=\"color:black;font-size:2em;font-weight:bold\">8.</span>&nbsp; Retrouver cette somme par le calcul."
   ]
  },
  {
   "cell_type": "code",
   "execution_count": null,
   "metadata": {},
   "outputs": [],
   "source": []
  },
  {
   "cell_type": "code",
   "execution_count": null,
   "metadata": {},
   "outputs": [],
   "source": []
  }
 ],
 "metadata": {
  "kernelspec": {
   "display_name": "Python 3",
   "language": "python",
   "name": "python3"
  },
  "language_info": {
   "codemirror_mode": {
    "name": "ipython",
    "version": 3
   },
   "file_extension": ".py",
   "mimetype": "text/x-python",
   "name": "python",
   "nbconvert_exporter": "python",
   "pygments_lexer": "ipython3",
   "version": "3.8.6"
  }
 },
 "nbformat": 4,
 "nbformat_minor": 4
}
