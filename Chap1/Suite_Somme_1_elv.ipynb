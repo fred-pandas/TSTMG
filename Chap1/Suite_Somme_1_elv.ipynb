{
 "cells": [
  {
   "cell_type": "markdown",
   "metadata": {},
   "source": [
    "<img src=\"https://raw.githubusercontent.com/lyceeHM/Terminale_Spe/master/python_lycee.png\">\n",
    "<div id=\"titre\">\n",
    "<h1 style=\"color:white;\n",
    "  font-family:Comic Sans MS;\n",
    "  font-size:3em;\n",
    "  background-color:black;\n",
    "  text-align:center;\n",
    "  padding:5px\">Rappels & sommes (1)</h1>\n",
    "<div style=\"font-family:Comic Sans MS; background-color:#888;box-shadow: 8px 8px 0px #aaa; text-align:center; width: 50%; color:white\">TSTMG : Chapitre 1 - Suites numériques</div>\n",
    "</div>"
   ]
  },
  {
   "cell_type": "markdown",
   "metadata": {},
   "source": [
    "<h1 style=\"font-size:3em;font-weight:bold\">A. Premier exemple</h1> "
   ]
  },
  {
   "cell_type": "markdown",
   "metadata": {},
   "source": [
    " <blockquote style=\"border-left: 5px solid black;background-color:#AAA\">\n",
    "    <ul>\n",
    "        <li> Considérons les nombres $2$, $5$, $8$, $11$, $14$, $17$ et $20$.\n",
    "            <br> Ce sont les termes d'une suite $\\left(u_n\\right)$ avec $u_0=2$.</li>\n",
    "        <li> On note $S$ la somme de ces nombres : $$S = 2+5+8+11+14+17+20$$ </li>\n",
    "    </ul>\n",
    " </blockquote>"
   ]
  },
  {
   "cell_type": "markdown",
   "metadata": {},
   "source": [
    "<span style=\"font-size:2em;font-weight:bold\">1.</span>&nbsp; <b>Nature de la suite $\\left(u_n\\right)$</b>\n",
    "<br><span style=\"font-size:1.5em;font-weight:bold\">a.</span>&nbsp; Compléter :\n",
    "<blockquote style=\"border-left: 3px solid black;background-color:white\">\n",
    "    <ul>\n",
    "        <li> On passe d'un terme à l'autre en ......... le nombre .....</li>\n",
    "        <li> $u_{n+1} = u_n + \\ldots$</li>\n",
    "    </ul>\n",
    "</blockquote>\n",
    "<span style=\"color:black;font-size:1.5em;font-weight:bold\">b.</span>&nbsp;  Préciser la nature de la suite $\\left(u_n\\right)$ et sa raison $r$."
   ]
  },
  {
   "cell_type": "markdown",
   "metadata": {},
   "source": [
    "<span style=\"color:black;font-size:2em;font-weight:bold\">2.</span>&nbsp; <b>Expression du terme général $u_n$</b> <br><span style=\"color:black;font-size:1.5em;font-weight:bold\">a.</span>&nbsp; Compléter :\n",
    "<blockquote style=\"border-left: 3px solid black;background-color:white\">\n",
    "    <ul>\n",
    "        <li> $u_1=u_0+\\ldots \\times r$</li>\n",
    "        <li> $u_2=u_0+\\ldots \\times r$</li>\n",
    "        <li> $u_3=u_0+\\ldots \\times r$</li>\n",
    "        <li> $u_n=u_0+\\ldots \\times r$</li>\n",
    "    </ul>\n",
    "</blockquote>\n",
    "<span style=\"color:black;font-size:1.5em;font-weight:bold\">b.</span>&nbsp;  Compléter : \n",
    "<blockquote style=\"border-left: 3px solid black;background-color:white\">\n",
    "Ces nombres sont les $u_n = 2 + \\ldots$ pour $n$ allant de $0$ à $6$.\n",
    "</blockquote>\n",
    "<br><span style=\"color:black;font-size:1.5em;font-weight:bold\">c.</span>&nbsp; Compléter l'instruction ci-dessous pour obtenir la liste <code style=\"background-color:white\">L</code> de ces nombres. "
   ]
  },
  {
   "cell_type": "code",
   "execution_count": null,
   "metadata": {},
   "outputs": [],
   "source": [
    "L = [2 + ... for n in range(7)]\n",
    "L"
   ]
  },
  {
   "cell_type": "markdown",
   "metadata": {},
   "source": [
    "<span style=\"color:black;font-size:2em;font-weight:bold\">3.</span>&nbsp; <b>Calcul de $S$ avec Python</b>\n",
    "<br><span style=\"color:black;font-size:1.5em;font-weight:bold\">a.</span>&nbsp; <b>Première façon :</b> Exécuter l'instruction suivante"
   ]
  },
  {
   "cell_type": "code",
   "execution_count": null,
   "metadata": {},
   "outputs": [],
   "source": [
    "sum(L)"
   ]
  },
  {
   "cell_type": "markdown",
   "metadata": {},
   "source": [
    "<br><span style=\"color:black;font-size:1.5em;font-weight:bold\">b.</span>&nbsp; <b>Deuxième façon :</b> <br>Utilisons une variable <code style=\"background-color:white\">S</code> pour calculer la somme $S$. <br> Exécuter le code suivant :"
   ]
  },
  {
   "cell_type": "code",
   "execution_count": null,
   "metadata": {},
   "outputs": [],
   "source": [
    "S = 0\n",
    "for u in L:\n",
    "    S = S + u\n",
    "S"
   ]
  },
  {
   "cell_type": "markdown",
   "metadata": {},
   "source": [
    "<span style=\"color:black;font-size:2em;font-weight:bold\">4.</span>&nbsp; <b>Calcul de $S$ \"à la main\"</b>\n",
    "<blockquote style=\"border-left: 3px solid black;background-color:white\">\n",
    "Ecrivons de deux façons la somme $S$ :\n",
    "$$\\begin{array}{ccccccccccccccc}\n",
    "S & = & 2 & + & 5 & + & 8 & + & 11 & + & 14 & + & 17 & + & 20\\\\\n",
    "S & = & 20 & + & 17 & + & 14 & + & 11 & + & 8 & + & 5 & + & 2\\\\\n",
    "\\hline 2S & = & \\ldots & + & \\ldots & + & \\ldots & + & \\ldots & + & \\ldots & + & \\ldots & + & \\ldots\n",
    "\\end{array}$$\n",
    "</blockquote>\n",
    "<br><span style=\"color:black;font-size:1.5em;font-weight:bold\">a.</span>&nbsp; Compléter chaque pointillés.\n",
    "<br><span style=\"color:black;font-size:1.5em;font-weight:bold\">b.</span>&nbsp; Compléter : \n",
    "<blockquote style=\"border-left: 3px solid black;background-color:white\">\n",
    "$2S$ est la somme contenant $\\ldots$ termes tous égaux à $\\ldots$.\n",
    "</blockquote>\n",
    "<span style=\"color:black;font-size:1.5em;font-weight:bold\">c.</span>&nbsp; En déduire $S$.\n",
    "<br>\n",
    "<br>\n",
    " <div style=\"color:black;font-size:2em;font-weight:bold\">A retenir :</div> \n",
    " <blockquote style=\"border-left: 5px solid black;background-color:pink\">\n",
    "    La somme de termes consécutifs d'une suite <b>arithmétique</b>, de raison $\\neq0$, est égale à $$\\ \\boxed{\\left(\\text{nombre de termes}\\right)\\times\\dfrac{\\text{premier terme }+\\text{ dernier terme}}{2}}\\,\\, $$\n",
    "    \n",
    " </blockquote>"
   ]
  },
  {
   "cell_type": "markdown",
   "metadata": {},
   "source": [
    "<h1 style=\"font-size:3em;font-weight:bold\">B. Notation <span style=\"font-size:1em;\">&ldquo;</span>condensée<span style=\"font-size:1em;\">&rdquo;</span> d'une somme</h1>"
   ]
  },
  {
   "cell_type": "markdown",
   "metadata": {},
   "source": [
    "  <blockquote style=\"border-left: 5px solid black;background-color:#AAA\">\n",
    "    $S=\\color{red}{u_0+u_1+u_2+u_3+u_4+u_5+u_6}$ est la somme des nombres $u_i$ pour $i$ allant de $0$ à $6$.\n",
    "    <ul>\n",
    "        <li>Elle se note : $$S=\\color{red}{\\sum_{i=0}^6u_i}$$</li>\n",
    "        <li>Elle se lit : <span style=\"font-size:2em;\">&ldquo;</span> somme ou sigma des $u_i$ pour $i$ allant de $0$ à $6$<span style=\"font-size:2em;\">&rdquo;</span></li>\n",
    "    </ul>\n",
    "    On peut aussi utiliser ${\\displaystyle S=\\color{red}{\\sum_{k=0}^{6}u_{k}}}$ ou ${\\displaystyle S=\\color{red}{\\sum_{n=0}^{6}u_{n}}}$ etc.\n",
    "    \n",
    " </blockquote>"
   ]
  },
  {
   "cell_type": "markdown",
   "metadata": {},
   "source": [
    "Compléter le tableau suivant :\n",
    "<table border=\"1\" class=\"dataframe\" width=\"500\">  <thead>    <tr style=\"text-align: center;\">      <th style=\"text-align: center;\">somme </th>      <th style=\"text-align: center;\">signification</th>      <th style=\"text-align: center;\">notation</th>    </tr>  </thead>  <tbody>    <tr>      <td style=\"text-align:center;border:1px solid black\">$1+2+\\ldots+36$</td>      <td style=\"text-align:center;border:1px solid black\">Somme des entiers $i$ pour $i$ allant de $\\ldots$ à $\\ldots$</td>      <td style=\"text-align:center;border:1px solid black\">${\\displaystyle \\sum_{i=1}^{\\ldots}i}$</td>    </tr>    <tr>      <td style=\"text-align:center;border:1px solid black\">$1^2+2^2+\\ldots+10^2$</td>      <td style=\"text-align:center;border:1px solid black\">Somme des nombres $\\ldots$ pour $i$ allant de $\\ldots$ à $\\ldots$</td>      <td style=\"text-align:center;border:1px solid black\"> </td>    </tr>    <tr>      <td style=\"text-align:center;border:1px solid black\"> $\\dfrac{1}{3}+\\dfrac{1}{4}+\\ldots+\\dfrac{1}{20}$ </td>      <td style=\"text-align:center;border:1px solid black\">Somme des nombres $\\ldots$ pour $i$ allant de $\\ldots$ à $\\ldots$</td>      <td style=\"text-align:center;border:1px solid black\"> </td>    </tr>    <tr>      <td style=\"text-align:center;border:1px solid black\"> $(1+2\\times 1)+(1+2\\times 2)+\\ldots+(1+2\\times 10)$ </td>      <td style=\"text-align:center;border:1px solid black\">Somme des nombres $\\ldots$ pour $i$ allant de $\\ldots$ à $\\ldots$</td>      <td style=\"text-align:center;border:1px solid black\"> </td>    </tr>    <tr>      <td style=\"text-align:center;border:1px solid black\"> </td>      <td style=\"text-align:center;border:1px solid black\">Somme des nombres $\\ldots$ pour $i$ allant de $\\ldots$ à $\\ldots$</td>      <td style=\"text-align:center;border:1px solid black\"> ${\\displaystyle \\sum_{i=0}^{10}(2+10\\times i)}$</td>    </tr>  </tbody></table>"
   ]
  },
  {
   "cell_type": "markdown",
   "metadata": {},
   "source": [
    "<h1 style=\"font-size:3em;font-weight:bold\">C. Applications</h1> "
   ]
  },
  {
   "cell_type": "markdown",
   "metadata": {},
   "source": [
    "## Application 1"
   ]
  },
  {
   "cell_type": "markdown",
   "metadata": {},
   "source": [
    "<blockquote style=\"border-left: 3px solid black;background-color:white\">\n",
    "On considère la suite de nombres :  $2$, $6$, $10$, $14$, $18$, $22$, $26$, $30$, $34$ et $38$.\n",
    "</blockquote>\n",
    "<br><span style=\"color:black;font-size:2em;font-weight:bold\">1.</span>&nbsp; Construire par <span style=\"font-size:1em;\">&ldquo;</span>compréhension<span style=\"font-size:1em;\">&rdquo;</span> la liste <code style=\"background-color:white\">L</code> de ces termes."
   ]
  },
  {
   "cell_type": "code",
   "execution_count": null,
   "metadata": {},
   "outputs": [],
   "source": []
  },
  {
   "cell_type": "markdown",
   "metadata": {},
   "source": [
    "<br><span style=\"color:black;font-size:2em;font-weight:bold\">2.</span>&nbsp; En déduire la somme de ces nombres."
   ]
  },
  {
   "cell_type": "code",
   "execution_count": null,
   "metadata": {},
   "outputs": [],
   "source": []
  },
  {
   "cell_type": "markdown",
   "metadata": {},
   "source": [
    "<br><span style=\"color:black;font-size:2em;font-weight:bold\">3.</span>&nbsp; Retrouver cette somme par le calcul."
   ]
  },
  {
   "cell_type": "markdown",
   "metadata": {},
   "source": [
    "## Application 2"
   ]
  },
  {
   "cell_type": "markdown",
   "metadata": {},
   "source": [
    "<blockquote style=\"border-left: 3px solid black;background-color:white\">\n",
    "    On considère la suite de nombres : \n",
    "<br> $4$, $19$, $34$, $49$, $64$, $79$, $94$, $109$, $124$, $139$, $154$, $169$, $184$, $199$, $214$, $229$, $244$, $259$, $274$, $289$, $304$, $319$, $334$, $349$, $364$, $379$, $394$, $409$, $424$, $439$, $454$, $469$, $484$, $499$, $514$, $529$, $544$, $559$, $574$, $589$, $604$, $619$, $634$, $649$, $664$, $679$, $694$, $709$, $724$, $739$, $754$, $769$, $784$, $799$, $814$, $829$, $844$, $859$, $874$, $889$, $904$, $919$, $934$, $949$, $964$, $979$, $994$, $1009$.\n",
    "</blockquote>\n",
    "<br><span style=\"color:black;font-size:2em;font-weight:bold\">1.</span>&nbsp; Construire par <span style=\"font-size:1em;\">&ldquo;</span>compréhension<span style=\"font-size:1em;\">&rdquo;</span> la liste <code style=\"background-color:white\">L</code> de ces termes."
   ]
  },
  {
   "cell_type": "code",
   "execution_count": null,
   "metadata": {},
   "outputs": [],
   "source": []
  },
  {
   "cell_type": "markdown",
   "metadata": {},
   "source": [
    "<br><span style=\"color:black;font-size:2em;font-weight:bold\">2.</span>&nbsp; En déduire la somme de ces nombres."
   ]
  },
  {
   "cell_type": "code",
   "execution_count": null,
   "metadata": {},
   "outputs": [],
   "source": []
  },
  {
   "cell_type": "markdown",
   "metadata": {},
   "source": [
    "<br><span style=\"color:black;font-size:2em;font-weight:bold\">3.</span>&nbsp; Retrouver cette somme par le calcul."
   ]
  },
  {
   "cell_type": "code",
   "execution_count": null,
   "metadata": {},
   "outputs": [],
   "source": []
  },
  {
   "cell_type": "markdown",
   "metadata": {},
   "source": [
    "## Application 3"
   ]
  },
  {
   "cell_type": "markdown",
   "metadata": {},
   "source": [
    "<blockquote style=\"border-left: 3px solid black;background-color:white\">\n",
    "    Soit la suite arithmétique $\\left(u_n\\right)$ de premier terme $u_0=3$ et de raison $r=100$.\n",
    "</blockquote>\n",
    "<br><span style=\"color:black;font-size:2em;font-weight:bold\">1.</span>&nbsp; Calculer <span style=\"font-size:1em;\">&ldquo;</span>à la main<span style=\"font-size:1em;\">&rdquo;</span> ${\\displaystyle S=\\sum_{k=0}^{10}u_{k}}$.\n",
    "<br><span style=\"color:black;font-size:2em;font-weight:bold\">2.</span>&nbsp; Retrouver <span style=\"font-size:1em;\">&ldquo;</span>avec Python<span style=\"font-size:1em;\">&rdquo;</span> la valeur de $S$."
   ]
  },
  {
   "cell_type": "markdown",
   "metadata": {},
   "source": [
    "## Application 4"
   ]
  },
  {
   "cell_type": "markdown",
   "metadata": {},
   "source": [
    "<blockquote style=\"border-left: 3px solid black;background-color:white\">\n",
    "    Soit la suite arithmétique $\\left(u_n\\right)$ de premier terme $u_\\color{red}{\\bf{1}}=1000$ et de raison $r=20$.\n",
    "</blockquote>\n",
    "<br><span style=\"color:black;font-size:2em;font-weight:bold\">1.</span>&nbsp; Calculer <span style=\"font-size:1em;\">&ldquo;</span>à la main<span style=\"font-size:1em;\">&rdquo;</span> ${\\displaystyle S=\\sum_{k=\\color{red}{\\bf{1}}}^{20}u_{k}}$.\n",
    "<br><span style=\"color:black;font-size:2em;font-weight:bold\">2.</span>&nbsp; Retrouver <span style=\"font-size:1em;\">&ldquo;</span>avec Python<span style=\"font-size:1em;\">&rdquo;</span> la valeur de $S$."
   ]
  },
  {
   "cell_type": "code",
   "execution_count": null,
   "metadata": {},
   "outputs": [],
   "source": []
  }
 ],
 "metadata": {
  "kernelspec": {
   "display_name": "Python 3",
   "language": "python",
   "name": "python3"
  },
  "language_info": {
   "codemirror_mode": {
    "name": "ipython",
    "version": 3
   },
   "file_extension": ".py",
   "mimetype": "text/x-python",
   "name": "python",
   "nbconvert_exporter": "python",
   "pygments_lexer": "ipython3",
   "version": "3.8.6"
  }
 },
 "nbformat": 4,
 "nbformat_minor": 4
}
