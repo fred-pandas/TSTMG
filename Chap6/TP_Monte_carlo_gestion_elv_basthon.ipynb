{
 "cells": [
  {
   "cell_type": "markdown",
   "metadata": {},
   "source": [
    "<img src=\"https://raw.githubusercontent.com/lyceeHM/Terminale_Spe/master/python_lycee.png\">\n",
    "<div id=\"titre\">\n",
    "<h1 style=\"color:white;\n",
    "  font-family:Comic Sans MS;\n",
    "  font-size:3em;\n",
    "  background-color:black;\n",
    "  text-align:center;\n",
    "  padding:5px\">Rentabilité locative d'un bien immobilier & Monte-Carlo</h1>\n",
    "<div style=\"font-family:Comic Sans MS; background-color:#888;box-shadow: 8px 8px 0px #aaa; text-align:center; width: 50%; color:white\">TSTMG : simulation de Monte - Carlo</div>\n",
    "</div>"
   ]
  },
  {
   "cell_type": "markdown",
   "metadata": {},
   "source": [
    "<h1 style=\"font-family:Comic Sans MS;color:white;background-color:#B9B9B9;text-align:center\"> <span style=\"font-size:2em;font-weight:bold;padding-right: 60px;color:black;\"> A.</span> Rendement locatif</h1>"
   ]
  },
  {
   "cell_type": "markdown",
   "metadata": {},
   "source": [
    "<div style=\"color:black;font-size:2em;font-weight:bold\">Définitions :</div> \n",
    "<blockquote style=\"background-color:#DDD;padding:10px;border-left: 4px solid;margin-left: 60px;padding-left: 30px\">\n",
    "    Un bien immobilier a coûté au propriétaire $103\\,000$ € (prix à l'achat + travaux de rénovation).\n",
    "    <br> Il décide de le mettre à la location pendant un an. \n",
    "    <ul style=\"margin-left: 60px\">\n",
    "        <li> Le nombre de mois où le bien est vacant est noté $X$ </li>\n",
    "        <li> Le bien est loué $L$ euros par mois</li>\n",
    "        <li> Le <b>revenu locatif</b> est le total loyers perçus durant l'année.</li>\n",
    "        <li> Les <b>frais annuels</b> sont constitués de :\n",
    "    <br>\n",
    "<style>\n",
    "      table {\n",
    "        border-collapse: collapse;\n",
    "      }\n",
    "      td {border: 1px solid black;},\n",
    "      th {\n",
    "        padding: 10px;\n",
    "        border-bottom: 2px solid #8ebf42;\n",
    "        text-align: center;\n",
    "      }\n",
    "</style>\n",
    "<table style=\"border-width:2px;border-style:solid;border-color:#F0573B\" width=\"420\">\n",
    "    <tr style=\"border:2px solid black;\">\n",
    "        <td style=\"border:2px solid black;text-align:center;\"bgcolor='white'>Charges copropriété</td>\n",
    "           <td style=\"border:2px solid black;text-align:center;\"bgcolor='white'>600 €</td>\n",
    "   </tr>\n",
    "     <tr style=\"border:2px solid black;\">\n",
    "        <td style=\"border:2px solid black;text-align:center;\"bgcolor='white'>Assurances (PNO, loyers impayés)</td>\n",
    "       <td style=\"border:2px solid black;text-align:center;\"bgcolor='white'>220 €</td>\n",
    "   </tr>\n",
    "     <tr style=\"border:2px solid black;\">\n",
    "        <td style=\"border:2px solid black;text-align:center;\"bgcolor='white'>Taxe foncière</td>\n",
    "       <td style=\"border:2px solid black;text-align:center;\"bgcolor='white'>800 €</td>\n",
    "   </tr>\n",
    "     <tr style=\"border:2px solid black;\">\n",
    "        <td style=\"border:2px solid black;text-align:center;\"bgcolor='white'>Gestion locative</td>\n",
    "       <td style=\"border:2px solid black;text-align:center;\"bgcolor='white'>1 000 €</td>\n",
    "   </tr>\n",
    "     <tr style=\"border:2px solid black;\">\n",
    "        <td style=\"border:2px solid black;text-align:center;\"bgcolor='white'>Travaux d'entretiens</td>\n",
    "       <td style=\"border:2px solid black;text-align:center;\"bgcolor='white'> $Y$ </td>\n",
    "   </tr>\n",
    "</table>\n",
    "        </li>\n",
    "        <li>Le <b>gain</b> <em>(algébrique)</em> obtenu lors de la location est l'argent récolté par le propriétaire.</li>\n",
    "        <li> Le <b>rendement locatif <em>(net)</em></b> est la part du gain <em>(algébrique)</em> relativement au prix du bien. </li>\n",
    "    </ul>\n",
    "</blockquote>"
   ]
  },
  {
   "cell_type": "markdown",
   "metadata": {},
   "source": [
    "<span style=\"color:black;font-size:2em;font-weight:bold;padding-right: 30px;\">1.</span> Exprimer le <b>revenu locatif</b> en fonction de $L$ et $X$."
   ]
  },
  {
   "cell_type": "markdown",
   "metadata": {},
   "source": [
    "<span style=\"color:black;font-size:2em;font-weight:bold;padding-right: 30px;\">2.</span> Exprimer les <b>frais</b> que doit payer le propriétaire en fonction de $Y$."
   ]
  },
  {
   "cell_type": "markdown",
   "metadata": {},
   "source": [
    "<span style=\"color:black;font-size:2em;font-weight:bold;padding-right: 30px;\">3.</span> Exprimer le <b>rendement locatif</b> en fonction de $L$, $X$ et $Y$."
   ]
  },
  {
   "cell_type": "markdown",
   "metadata": {},
   "source": [
    "<span style=\"color:black;font-size:2em;font-weight:bold;padding-right: 0px\">4.</span><span style=\"color:black;font-size:1.8em;font-weight:bold;padding-right: 0px;padding-left: 10px\">a.</span> Définir la fonction python nommée <b>R</b> de paramètres <code style='background-color:white'>L</code>, <code style='background-color:white'>X</code> et <code style='background-color:white'>Y</code> qui renvoie le <b>rendement locatif</b>."
   ]
  },
  {
   "cell_type": "code",
   "execution_count": null,
   "metadata": {},
   "outputs": [],
   "source": [
    "def R(L, X, Y):\n",
    "    revenus = ............\n",
    "    frais = ...............\n",
    "    return .................."
   ]
  },
  {
   "cell_type": "markdown",
   "metadata": {},
   "source": [
    "<span style=\"color:black;font-size:2em;font-weight:bold;padding-right: 0px;color:white\">5.</span><span style=\"color:black;font-size:1.8em;font-weight:bold;padding-right: 0px;padding-left: 10px\">b.</span> Vérifier que le <b>rendement locatif</b> du bien  immobilier loué $680€$ par mois à temps plein et sans travaux est environ égal à $5,4\\%$."
   ]
  },
  {
   "cell_type": "code",
   "execution_count": null,
   "metadata": {},
   "outputs": [],
   "source": [
    "R(..., ..., ...)"
   ]
  },
  {
   "cell_type": "markdown",
   "metadata": {},
   "source": [
    "<span style=\"color:black;font-size:2em;font-weight:bold;padding-right: 0px;color:white\">4.</span><span style=\"color:black;font-size:1.8em;font-weight:bold;padding-right: 0px;padding-left: 10px\">c.</span> Calculer le <b>rendement locatif</b> pour le bien loué $680€$ par mois à temps plein avec 500 € de travaux annuel."
   ]
  },
  {
   "cell_type": "code",
   "execution_count": null,
   "metadata": {},
   "outputs": [],
   "source": [
    "R(..., ..., ...)"
   ]
  },
  {
   "cell_type": "markdown",
   "metadata": {},
   "source": [
    "<div style=\"color:black;font-size:2em;font-weight:bold\">Objectif :</div>\n",
    "<blockquote style=\"background-color:#DDD;padding:10px;border-left: 4px solid;margin-left: 60px;padding-left: 30px\">\n",
    "    Le propriétaire décide de louer son bien $L=700€$ mais deux paramètres demeurent encore <b><u>aléatoires</u></b> pour le propriétaire :\n",
    "    <ul style=\"margin-left: 60px\">\n",
    "        <li> la durée de vacation $X$ </li>\n",
    "        <li> le montant $Y$ des travaux d'entretiens </li>\n",
    "    </ul>\n",
    "    Pour estimer le rendement locatif, on va simuler plusieurs réalisations de $X$ et $Y$ à partir de statistiques disponibles pour ce type de bien : \n",
    "            <ul style=\"margin-left: 60px\">\n",
    "        <li>Les durées de vacation du bien sont stockées dans le fichier <em><strong><a href=\"https://raw.githubusercontent.com/fred-pandas/TSTMG/master/Chap6/vacations.csv\" style=\"color:red\" target=\"_blank\"><code style=\"background-color:#DDD;font-size:1.1em\">'vacations.csv'</code></a></strong></em></li>\n",
    "        <li>Les montants des travaux sont dans le fichier <em><strong><a href=\"https://raw.githubusercontent.com/fred-pandas/TSTMG/master/Chap6/travaux.csv\" style=\"color:red\" target=\"_blank\"><code style=\"background-color:#DDD;font-size:1.1em\">'travaux.csv'</code></a></strong></em></li>\n",
    "    </ul>\n",
    "    <img src=\"https://www.bestuscasinos.org/wp-content/uploads/2020/08/What-Is-Gambling-in-Monte-Carlo-Like.jpg\">\n",
    "    La simulation de <b>Monte-Carlo</b> est une méthode utiliser pour estimer une quantité numérique qui utilise des nombres aléatoires.\n",
    "<br> C'est Stanisław Ulam et John von Neumann qui l’appelèrent ainsi, en référence aux jeux de hasard dans les casinos, au cours du projet Manhattan qui produisit la première bombe atomique pendant la Seconde Guerre mondiale.\n",
    "</blockquote>"
   ]
  },
  {
   "cell_type": "markdown",
   "metadata": {},
   "source": [
    "<h1 style=\"font-family:Comic Sans MS;color:white;background-color:#B9B9B9;text-align:center\"> <span style=\"font-size:2em;font-weight:bold;padding-right: 60px;color:black;\"> B.</span> Loi de probabilité de $X$</h1> "
   ]
  },
  {
   "cell_type": "markdown",
   "metadata": {},
   "source": [
    "<span style=\"color:black;font-size:2em;font-weight:bold;padding-right: 30px;\">1.</span> Exécuter le code suivant pour charger la distribution des fréquences des mois vacants."
   ]
  },
  {
   "cell_type": "code",
   "execution_count": null,
   "metadata": {},
   "outputs": [],
   "source": [
    "import pandas as pa\n",
    "import requests\n",
    "from io import StringIO\n",
    "\n",
    "url = requests.get(\"https://raw.githubusercontent.com/fred-pandas/TSTMG/master/Chap6/vacations.csv\")\n",
    "\n",
    "V = pa.read_csv(StringIO(url.decode()))\n",
    "V"
   ]
  },
  {
   "cell_type": "markdown",
   "metadata": {},
   "source": [
    "<span style=\"color:black;font-size:2em;font-weight:bold;padding-right: 30px;color:white\">1.</span> Exécuter le code suivant pour visualiser cette distribution."
   ]
  },
  {
   "cell_type": "code",
   "execution_count": null,
   "metadata": {},
   "outputs": [],
   "source": [
    "import pylab as pl\n",
    "\n",
    "V.plot.bar(x = 'Mois', y = 'Fréquences', \n",
    "           align = 'edge', width = 1, \n",
    "           edgecolor = 'black', facecolor = 'gray')\n",
    "pl.show()"
   ]
  },
  {
   "cell_type": "markdown",
   "metadata": {},
   "source": [
    "<div style=\"color:black;font-size:1.5em;font-weight:bold\">Loi de probabilité de $X$ sera :</div> \n",
    "<blockquote style=\"background-color:#DDD;padding:10px;border-left: 4px solid;margin-left: 60px;\"> \n",
    "    <table style=\"border-style:solid;border: 1px solid black;\"><tbody>    <tr><td style=\"text-align: right;border: 1px solid black;\"><b>$X$</b></td><td style=\"text-align: right;border: 1px solid black;\">0  </td><td style=\"text-align: right;border: 1px solid black;\">1  </td><td style=\"text-align: right;border: 1px solid black;\">2   </td><td style=\"text-align: right;border: 1px solid black;\">3   </td><td style=\"text-align: right;border: 1px solid black;\">4   </td><td style=\"text-align: right;border: 1px solid black;\">5   </td></tr>    <tr><td style=\"text-align: right;border: 1px solid black;\"><b>Probabilité</b></td><td style=\"text-align: right;border: 1px solid black;\">0.4</td><td style=\"text-align: right;border: 1px solid black;\">0.3</td><td style=\"text-align: right;border: 1px solid black;\">0.15</td><td style=\"text-align: right;border: 1px solid black;\">0.05</td><td style=\"text-align: right;border: 1px solid black;\">0.05</td><td style=\"text-align: right;border: 1px solid black;\">0.05</td></tr></tbody></table>\n",
    "</blockquote>"
   ]
  },
  {
   "cell_type": "markdown",
   "metadata": {},
   "source": [
    "<span style=\"color:black;font-size:2em;font-weight:bold;padding-right: 30px;\">2.</span> Exécuter le code suivant pour charger la fonction <b>choices</b> du module <b>random</b>."
   ]
  },
  {
   "cell_type": "code",
   "execution_count": null,
   "metadata": {},
   "outputs": [],
   "source": [
    "from random import choices"
   ]
  },
  {
   "cell_type": "markdown",
   "metadata": {},
   "source": [
    "<span style=\"color:white;font-size:2em;font-weight:bold;padding-right: 30px;\">1.</span> Exécuter le code suivant pour simuler $500\\,000$ réalisations de $X$ que l'on stockera dans une liste <code style=\"background-color:white\">X</code> :"
   ]
  },
  {
   "cell_type": "code",
   "execution_count": null,
   "metadata": {},
   "outputs": [],
   "source": [
    "X = choices(V['Mois'], V['Fréquences'], k = 500000)\n",
    "print(X)"
   ]
  },
  {
   "cell_type": "markdown",
   "metadata": {},
   "source": [
    "<blockquote style=\"background-color:#DDD;padding:10px;border-left: 4px solid;margin-left: 60px;\"> \n",
    "    <ul>\n",
    "        <li> Le premier élément accessible avec <code style='background-color:#DDD'>X[0]</code> simule une réalisation de $X$.</li>\n",
    "        <li> Le second élément accessible avec <code style='background-color:#DDD'>X[1]</code> simule une réalisation de $X$.\n",
    "        <br> etc.</li>\n",
    "    </ul>\n",
    "</blockquote>"
   ]
  },
  {
   "cell_type": "markdown",
   "metadata": {},
   "source": [
    "<h1 style=\"font-family:Comic Sans MS;color:white;background-color:#B9B9B9;text-align:center\"> <span style=\"font-size:2em;font-weight:bold;padding-right: 60px;color:black;\"> C.</span> Loi de probabilité de $Y$</h1> "
   ]
  },
  {
   "cell_type": "markdown",
   "metadata": {},
   "source": [
    "<span style=\"color:black;font-size:2em;font-weight:bold;padding-right: 30px;\">1.</span> Exécuter le code suivant pour charger la distribution des fréquences du montant des travaux."
   ]
  },
  {
   "cell_type": "code",
   "execution_count": null,
   "metadata": {
    "scrolled": false
   },
   "outputs": [],
   "source": [
    "url = requests.get(\"https://raw.githubusercontent.com/fred-pandas/TSTMG/master/Chap6/travaux.csv\")\n",
    "\n",
    "T = pa.read_csv(StringIO(url.decode()))\n",
    "T"
   ]
  },
  {
   "cell_type": "markdown",
   "metadata": {},
   "source": [
    "<span style=\"color:black;font-size:2em;font-weight:bold;padding-right: 30px;color:white\">1.</span> Exécuter le code suivant pour visualiser cette distribution."
   ]
  },
  {
   "cell_type": "code",
   "execution_count": null,
   "metadata": {},
   "outputs": [],
   "source": [
    "T.plot.bar(x = 'Montants', y = 'Fréquences', \n",
    "           align = 'edge', width = 100, \n",
    "           edgecolor = 'black', facecolor = 'gray')\n",
    "pl.show()"
   ]
  },
  {
   "cell_type": "markdown",
   "metadata": {},
   "source": [
    "<div style=\"color:black;font-size:1.5em;font-weight:bold\">Loi de probabilité de $Y$ sera :</div> \n",
    "<blockquote style=\"background-color:#DDD;padding:10px;border-left: 4px solid;margin-left: 60px;padding-left: 30px\">\n",
    "    <table><tr><td style=\"border:1px solid black;\"><b><b>$Y$</b></b></td><td style=\"text-align: right;border:1px solid black;\">100   </td><td style=\"text-align: right;border:1px solid black;\">200   </td><td style=\"text-align: right;border:1px solid black;\">300   </td><td style=\"text-align: right;border:1px solid black;\">400   </td><td style=\"text-align: right;border:1px solid black;\">500   </td><td style=\"text-align: right;border:1px solid black;\">600  </td><td style=\"text-align: right;border:1px solid black;\">700   </td><td style=\"text-align: right;border:1px solid black;\">800   </td><td style=\"text-align: right;border:1px solid black;\">900   </td><td style=\"text-align: right;border:1px solid black;\">1000   </td><td style=\"text-align: right;border:1px solid black;\">1100   </td><td style=\"text-align: right;border:1px solid black;\">1200   </td><td style=\"text-align: right;border:1px solid black;\">1300   </td><td style=\"text-align: right;border:1px solid black;\">1400   </td><td style=\"text-align: right;border:1px solid black;\">1500   </td><td style=\"text-align: right;border:1px solid black;\">1600   </td><td style=\"text-align: right;border:1px solid black;\">1700   </td><td style=\"text-align: right;border:1px solid black;\">1800   </td><td style=\"text-align: right;border:1px solid black;\">1900   </td><td style=\"text-align: right;border:1px solid black;\">2000   </td><td style=\"text-align: right;border:1px solid black;\">2100   </td><td style=\"text-align: right;border:1px solid black;\">2200   </td><td style=\"text-align: right;border:1px solid black;\">2300   </td><td style=\"text-align: right;border:1px solid black;\">2400   </td><td style=\"text-align: right;border:1px solid black;\">2500   </td><td style=\"text-align: right;border:1px solid black;\">2600   </td><td style=\"text-align: right;border:1px solid black;\">2700   </td><td style=\"text-align: right;border:1px solid black;\">2800   </td><td style=\"text-align: right;border:1px solid black;\">2900   </td><td style=\"text-align: right;border:1px solid black;\">3000   </td></tr>    <tr><td style=\"border:1px solid black;\"><b>Probabilité</b>   </td><td style=\"text-align: right;border:1px solid black;\">  0.02</td><td style=\"text-align: right;border:1px solid black;\">  0.03</td><td style=\"text-align: right;border:1px solid black;\">  0.04</td><td style=\"text-align: right;border:1px solid black;\">  0.06</td><td style=\"text-align: right;border:1px solid black;\">  0.09</td><td style=\"text-align: right;border:1px solid black;\">  0.1</td><td style=\"text-align: right;border:1px solid black;\">  0.08</td><td style=\"text-align: right;border:1px solid black;\">  0.08</td><td style=\"text-align: right;border:1px solid black;\">  0.06</td><td style=\"text-align: right;border:1px solid black;\">   0.05</td><td style=\"text-align: right;border:1px solid black;\">   0.05</td><td style=\"text-align: right;border:1px solid black;\">   0.04</td><td style=\"text-align: right;border:1px solid black;\">   0.04</td><td style=\"text-align: right;border:1px solid black;\">   0.04</td><td style=\"text-align: right;border:1px solid black;\">   0.03</td><td style=\"text-align: right;border:1px solid black;\">   0.03</td><td style=\"text-align: right;border:1px solid black;\">   0.02</td><td style=\"text-align: right;border:1px solid black;\">   0.02</td><td style=\"text-align: right;border:1px solid black;\">   0.01</td><td style=\"text-align: right;border:1px solid black;\">   0.01</td><td style=\"text-align: right;border:1px solid black;\">   0.01</td><td style=\"text-align: right;border:1px solid black;\">   0.01</td><td style=\"text-align: right;border:1px solid black;\">   0.01</td><td style=\"text-align: right;border:1px solid black;\">   0.01</td><td style=\"text-align: right;border:1px solid black;\">   0.01</td><td style=\"text-align: right;border:1px solid black;\">   0.01</td><td style=\"text-align: right;border:1px solid black;\">   0.01</td><td style=\"text-align: right;border:1px solid black;\">   0.01</td><td style=\"text-align: right;border:1px solid black;\">   0.01</td><td style=\"text-align: right;border:1px solid black;\">   0.01</td></tr></table>\n",
    "</blockquote>"
   ]
  },
  {
   "cell_type": "markdown",
   "metadata": {},
   "source": [
    "<span style=\"color:black;font-size:2em;font-weight:bold;padding-right: 30px;\">2.</span> Quelle valeur de $Y$ peut se réaliser avec la plus grande probabilité ?"
   ]
  },
  {
   "cell_type": "markdown",
   "metadata": {},
   "source": [
    "<span style=\"color:black;font-size:2em;font-weight:bold;padding-right: 30px;\">3.</span> Simuler $500\\,000$ réalisations de $Y$ que l'on stockera dans une liste <code style=\"background-color:white\">Y</code> :"
   ]
  },
  {
   "cell_type": "code",
   "execution_count": null,
   "metadata": {},
   "outputs": [],
   "source": [
    "Y = choices(T['.........'], T['...........'], k = .........)"
   ]
  },
  {
   "cell_type": "markdown",
   "metadata": {},
   "source": [
    "<h1 style=\"font-family:Comic Sans MS;color:white;background-color:#B9B9B9;text-align:center\"> <span style=\"font-size:2em;font-weight:bold;padding-right: 60px;color:black;\"> D.</span> Simulations du rendement locatif</h1>"
   ]
  },
  {
   "cell_type": "markdown",
   "metadata": {},
   "source": [
    "<span style=\"color:black;font-size:2em;font-weight:bold;padding-right: 30px;\">1.</span> Compléter le code suivant pour simuler le rendement locatif du bien loué $700€$."
   ]
  },
  {
   "cell_type": "code",
   "execution_count": null,
   "metadata": {},
   "outputs": [],
   "source": [
    "R(..., X[0], Y[...])"
   ]
  },
  {
   "cell_type": "markdown",
   "metadata": {},
   "source": [
    "<span style=\"color:black;font-size:2em;font-weight:bold;padding-right: 30px;\">2.</span> Compléter le code suivant pour simuler une liste nommée <code style='background-color:white'>LR</code> de $500\\,000$ rendements  locatifs du bien loué $700€$."
   ]
  },
  {
   "cell_type": "code",
   "execution_count": null,
   "metadata": {},
   "outputs": [],
   "source": [
    "LR = [R(..., X[...], Y[...]) for k in range(500000)]"
   ]
  },
  {
   "cell_type": "markdown",
   "metadata": {},
   "source": [
    "<span style=\"color:black;font-size:2em;font-weight:bold;padding-right: 30px;color:white\">2.</span> Exécuter le code suivant pour visualiser la distribution des fréquences de réalisations de $R$"
   ]
  },
  {
   "cell_type": "code",
   "execution_count": null,
   "metadata": {},
   "outputs": [],
   "source": [
    "pl.hist(LR, bins = 20, edgecolor = 'black', facecolor = 'gray')\n",
    "pl.show()"
   ]
  },
  {
   "cell_type": "markdown",
   "metadata": {},
   "source": [
    "<h1 style=\"font-family:Comic Sans MS;color:white;background-color:#B9B9B9;text-align:center\"> <span style=\"font-size:2em;font-weight:bold;padding-right: 60px;color:black;\"> E.</span> Rendement moyen et Value at Risk</h1>"
   ]
  },
  {
   "cell_type": "markdown",
   "metadata": {},
   "source": [
    "<div style=\"color:black;font-size:2em;font-weight:bold\">Définition :</div> \n",
    "<blockquote style=\"background-color:#DDD;padding:10px;border-left: 4px solid;margin-left: 60px;padding-left: 30px\">Le  <b>rendement locatif moyen</b> est la moyenne d'un grand nombre de rendements locatifs simulés.\n",
    "</blockquote>"
   ]
  },
  {
   "cell_type": "markdown",
   "metadata": {},
   "source": [
    "<span style=\"color:black;font-size:2em;font-weight:bold;padding-right: 0px\">1.</span><span style=\"color:black;font-size:1.8em;font-weight:bold;padding-right: 0px;padding-left: 10px\">a.</span> Calculer le <b>rendement locatif moyen lorsque le loyer est de $700€$</b>. <em>(Utiliser la liste <code style=\"background-color:white\">LR</code> créée précédemment)</em>."
   ]
  },
  {
   "cell_type": "code",
   "execution_count": null,
   "metadata": {},
   "outputs": [],
   "source": [
    "import numpy as np\n",
    "\n",
    "..."
   ]
  },
  {
   "cell_type": "markdown",
   "metadata": {},
   "source": [
    "<span style=\"color:black;font-size:2em;font-weight:bold;padding-right: 0px;color:white\">1.</span><span style=\"color:black;font-size:1.8em;font-weight:bold;padding-right: 0px;padding-left: 10px\">b.</span> Compléter : <span style=\"font-size:1.5em\">&laquo;</span> En moyenne, la location rapportera par an, $\\ldots\\%$ du prix du bien <span style=\"font-size:1.5em\">&raquo;</span>."
   ]
  },
  {
   "cell_type": "markdown",
   "metadata": {},
   "source": [
    "<div style=\"color:black;font-size:2em;font-weight:bold\">Aide :</div> \n",
    "<blockquote style=\"border-left: 5px solid black;background-color:#DAF7A6;margin-left: 60px;padding-left: 30px\">\n",
    "    Le module <b>numpy</b> permet de calculer les paramètres statistiques d'une liste <code style='background-color:#DAF7A6'>L</code>.\n",
    "<table style=\"border-width:2px;border-style:solid;border-color:black\" width=\"420\">\n",
    "    <tr style=\"border:2px solid #F0573B;\">\n",
    "        <td style=\"border:2px solid black;text-align:center;\"bgcolor='white'><b>Instruction</b></td>\n",
    "           <td style=\"border:2px solid black;text-align:center;\"bgcolor='white'><b>Permet d'obtenir</b></td>\n",
    "   </tr>\n",
    "     <tr style=\"border:2px solid black;\">\n",
    "        <td style=\"border:2px solid black;text-align:left;\"bgcolor='white'><code style='background-color:white'>np.mean(L)</code></td>\n",
    "       <td style=\"border:2px solid black;text-align:left;\"bgcolor='white'>la moyenne de <code style='background-color:white'>L</code></td>\n",
    "   </tr>\n",
    "     <tr style=\"border:2px solid black;\">\n",
    "        <td style=\"border:2px solid black;text-align:left;\"bgcolor='white'><code style='background-color:white'>np.std(L, ddof = 0)</code></td>\n",
    "       <td style=\"border:2px solid black;text-align:left;\"bgcolor='white'>l'écart-type de <code style='background-color:white'>L</code></td>\n",
    "   </tr>\n",
    "     <tr style=\"border:2px solid black;\">\n",
    "        <td style=\"border:2px solid black;text-align:left;\"bgcolor='white'><code style='background-color:white'>np.quantile(L, p)</code></td>\n",
    "       <td style=\"border:2px solid black;text-align:left;\"bgcolor='white'>le <code style='background-color:white'>p</code>-ième quantile de <code style='background-color:white'>L</code></td>\n",
    "   </tr>\n",
    "</table>\n",
    "</blockquote>"
   ]
  },
  {
   "cell_type": "markdown",
   "metadata": {},
   "source": [
    "<div style=\"color:black;font-size:2em;font-weight:bold\">Définition :</div> \n",
    "<blockquote style=\"background-color:#DDD;padding:10px;border-left: 4px solid;margin-left: 60px;padding-left: 30px\"> La  <b>Value at Risk</b> à 5%, notée <b>Var</b>, est la valeur supérieure ou égale aux 5% des rendements les plus faibles.\n",
    "</blockquote>"
   ]
  },
  {
   "cell_type": "markdown",
   "metadata": {},
   "source": [
    "<span style=\"color:black;font-size:2em;font-weight:bold;padding-right: 0px\">2.</span><span style=\"color:black;font-size:1.8em;font-weight:bold;padding-right: 0px;padding-left: 10px\">a.</span> Calculer la <b>Var</b> du rendement locatif."
   ]
  },
  {
   "cell_type": "code",
   "execution_count": null,
   "metadata": {},
   "outputs": [],
   "source": [
    "..."
   ]
  },
  {
   "cell_type": "markdown",
   "metadata": {},
   "source": [
    "<span style=\"color:black;font-size:2em;font-weight:bold;padding-right: 0px;color:white\">2.</span><span style=\"color:black;font-size:1.8em;font-weight:bold;padding-right: 0px;padding-left: 10px\">b.</span> Compléter : <span style=\"font-size:1.5em\">&laquo;</span> Avec une confiance de $95\\%$, en l'espace d'un an, la location rapportera au moins $\\ldots\\%$ du prix du bien <span style=\"font-size:1.5em\">&raquo;</span>."
   ]
  },
  {
   "cell_type": "code",
   "execution_count": null,
   "metadata": {},
   "outputs": [],
   "source": []
  }
 ],
 "metadata": {
  "kernelspec": {
   "display_name": "Python 3",
   "language": "python",
   "name": "python3"
  },
  "language_info": {
   "codemirror_mode": {
    "name": "ipython",
    "version": 3
   },
   "file_extension": ".py",
   "mimetype": "text/x-python",
   "name": "python",
   "nbconvert_exporter": "python",
   "pygments_lexer": "ipython3",
   "version": "3.8.6"
  }
 },
 "nbformat": 4,
 "nbformat_minor": 4
}
