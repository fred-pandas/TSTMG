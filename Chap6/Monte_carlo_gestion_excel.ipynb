{
 "cells": [
  {
   "cell_type": "markdown",
   "metadata": {},
   "source": [
    "<img src=\"https://raw.githubusercontent.com/lyceeHM/Terminale_Spe/master/python_lycee.png\">\n",
    "<div id=\"titre\">\n",
    "<h1 style=\"color:white;\n",
    "  font-family:Comic Sans MS;\n",
    "  font-size:3em;\n",
    "  background-color:black;\n",
    "  text-align:center;\n",
    "  padding:5px\">Rentabilité locative d'un bien immobilier</h1>\n",
    "<div style=\"font-family:Comic Sans MS; background-color:#888;box-shadow: 8px 8px 0px #aaa; text-align:center; width: 50%; color:white\">TSTMG : simulation de Monte - Carlo</div>\n",
    "</div>"
   ]
  },
  {
   "cell_type": "markdown",
   "metadata": {},
   "source": [
    "<div style=\"color:black;font-size:2em;font-weight:bold\">Présentation :</div>\n",
    "<blockquote style=\"background-color:#DDD;padding:10px;border-left: 4px solid;margin-left: 60px;padding-left: 30px\">\n",
    "    Un bien immobilier coûte $103\\,000$ € (prix à l'achat + travaux de rénovation).\n",
    "    <br> Pour un loyer donné, deux paramètres demeurent <b><u>aléatoires</u></b> :\n",
    "    <ul>\n",
    "        <li> $X$ le nombre de mois vaccants </li>\n",
    "        <li> $Y$ le montant des travaux d'entretiens </li>\n",
    "    </ul>\n",
    "</blockquote>"
   ]
  },
  {
   "cell_type": "markdown",
   "metadata": {},
   "source": [
    "<h1 style=\"font-family:Comic Sans MS;color:white;background-color:#B9B9B9;text-align:center\"> <span style=\"font-size:2em;font-weight:bold;padding-right: 60px;color:black;\"> A.</span> Loi de probabilité de $X$</h1> "
   ]
  },
  {
   "cell_type": "markdown",
   "metadata": {},
   "source": [
    "<div style=\"color:black;font-size:2em;font-weight:bold\">Données statistiques fournies :</div>\n",
    "<blockquote style=\"background-color:#DDD;padding:10px;border-left: 4px solid;margin-left: 60px;padding-left: 30px\">\n",
    "    Une étude statistique a été menée concernant ce bien destiné à la location.\n",
    "    <br> Les données sont stockées dans le fichier excel <b>location.xls</b> ci-dessous :\n",
    "</blockquote>"
   ]
  },
  {
   "cell_type": "code",
   "execution_count": 1,
   "metadata": {},
   "outputs": [
    {
     "data": {
      "text/html": [
       "<iframe src=\"https://docs.google.com/spreadsheets/d/e/2PACX-1vQYevX9Fm-V6YDscs4lm0j118UMh3daV-6kLPVmX31Md69wzAQiYQLwJ3z1mnMlfg/pubhtml?widget=true&amp;headers=false\" style=\"height:300px\"></iframe>\n"
      ],
      "text/plain": [
       "<IPython.core.display.HTML object>"
      ]
     },
     "metadata": {},
     "output_type": "display_data"
    }
   ],
   "source": [
    "%%html\n",
    "<iframe src=\"https://docs.google.com/spreadsheets/d/e/2PACX-1vQYevX9Fm-V6YDscs4lm0j118UMh3daV-6kLPVmX31Md69wzAQiYQLwJ3z1mnMlfg/pubhtml?widget=true&amp;headers=false\" style=\"height:300px\"></iframe>"
   ]
  },
  {
   "cell_type": "markdown",
   "metadata": {},
   "source": [
    "<span style=\"color:black;font-size:2em;font-weight:bold;padding-right: 30px;\">1.</span> Exécuter le code suivant pour charger la distribution des fréquences des mois vacants."
   ]
  },
  {
   "cell_type": "code",
   "execution_count": 1,
   "metadata": {},
   "outputs": [
    {
     "data": {
      "text/html": [
       "<div>\n",
       "<style scoped>\n",
       "    .dataframe tbody tr th:only-of-type {\n",
       "        vertical-align: middle;\n",
       "    }\n",
       "\n",
       "    .dataframe tbody tr th {\n",
       "        vertical-align: top;\n",
       "    }\n",
       "\n",
       "    .dataframe thead th {\n",
       "        text-align: right;\n",
       "    }\n",
       "</style>\n",
       "<table border=\"1\" class=\"dataframe\">\n",
       "  <thead>\n",
       "    <tr style=\"text-align: right;\">\n",
       "      <th></th>\n",
       "      <th>Mois</th>\n",
       "      <th>Fréquences</th>\n",
       "    </tr>\n",
       "  </thead>\n",
       "  <tbody>\n",
       "    <tr>\n",
       "      <th>0</th>\n",
       "      <td>0</td>\n",
       "      <td>0.40</td>\n",
       "    </tr>\n",
       "    <tr>\n",
       "      <th>1</th>\n",
       "      <td>1</td>\n",
       "      <td>0.30</td>\n",
       "    </tr>\n",
       "    <tr>\n",
       "      <th>2</th>\n",
       "      <td>2</td>\n",
       "      <td>0.15</td>\n",
       "    </tr>\n",
       "    <tr>\n",
       "      <th>3</th>\n",
       "      <td>3</td>\n",
       "      <td>0.05</td>\n",
       "    </tr>\n",
       "    <tr>\n",
       "      <th>4</th>\n",
       "      <td>4</td>\n",
       "      <td>0.05</td>\n",
       "    </tr>\n",
       "    <tr>\n",
       "      <th>5</th>\n",
       "      <td>5</td>\n",
       "      <td>0.05</td>\n",
       "    </tr>\n",
       "  </tbody>\n",
       "</table>\n",
       "</div>"
      ],
      "text/plain": [
       "   Mois  Fréquences\n",
       "0     0        0.40\n",
       "1     1        0.30\n",
       "2     2        0.15\n",
       "3     3        0.05\n",
       "4     4        0.05\n",
       "5     5        0.05"
      ]
     },
     "execution_count": 1,
     "metadata": {},
     "output_type": "execute_result"
    }
   ],
   "source": [
    "import pandas as pa\n",
    "\n",
    "V = pa.read_excel('location.xls', sheet_name = 'Vacations')\n",
    "V"
   ]
  },
  {
   "cell_type": "markdown",
   "metadata": {},
   "source": [
    "<span style=\"color:black;font-size:2em;font-weight:bold;padding-right: 30px;color:white\">1.</span> Exécuter le code suivant pour visualiser cette distribution."
   ]
  },
  {
   "cell_type": "code",
   "execution_count": 2,
   "metadata": {},
   "outputs": [
    {
     "data": {
      "text/plain": [
       "<AxesSubplot:xlabel='Mois'>"
      ]
     },
     "execution_count": 2,
     "metadata": {},
     "output_type": "execute_result"
    },
    {
     "data": {
      "image/png": "[encoded data removed]",
      "text/plain": [
       "<Figure size 432x288 with 1 Axes>"
      ]
     },
     "metadata": {
      "needs_background": "light"
     },
     "output_type": "display_data"
    }
   ],
   "source": [
    "V.plot.bar(x = 'Mois', y = 'Fréquences', \n",
    "           align = 'edge', width = 1, \n",
    "           edgecolor = 'black', facecolor = 'gray')"
   ]
  },
  {
   "cell_type": "markdown",
   "metadata": {},
   "source": [
    "<div style=\"color:black;font-size:2em;font-weight:bold\">Loi de probabilité de $X$ :</div> \n",
    "<blockquote style=\"background-color:#DDD;padding:10px;border-left: 4px solid;margin-left: 60px;\"> \n",
    "    <table style=\"border-style:solid;border: 1px solid black;\"><tbody>    <tr><td style=\"text-align: right;border: 1px solid black;\"><b>$X$</b></td><td style=\"text-align: right;border: 1px solid black;\">0  </td><td style=\"text-align: right;border: 1px solid black;\">1  </td><td style=\"text-align: right;border: 1px solid black;\">2   </td><td style=\"text-align: right;border: 1px solid black;\">3   </td><td style=\"text-align: right;border: 1px solid black;\">4   </td><td style=\"text-align: right;border: 1px solid black;\">5   </td></tr>    <tr><td style=\"text-align: right;border: 1px solid black;\"><b>Probabilité</b></td><td style=\"text-align: right;border: 1px solid black;\">0.4</td><td style=\"text-align: right;border: 1px solid black;\">0.3</td><td style=\"text-align: right;border: 1px solid black;\">0.15</td><td style=\"text-align: right;border: 1px solid black;\">0.05</td><td style=\"text-align: right;border: 1px solid black;\">0.05</td><td style=\"text-align: right;border: 1px solid black;\">0.05</td></tr></tbody></table>\n",
    "</blockquote>"
   ]
  },
  {
   "cell_type": "markdown",
   "metadata": {},
   "source": [
    "<span style=\"color:black;font-size:2em;font-weight:bold;padding-right: 30px;\">2.</span> Exécuter le code suivant pour charger la fonction <b>choices</b> du module <b>random</b>."
   ]
  },
  {
   "cell_type": "code",
   "execution_count": 3,
   "metadata": {},
   "outputs": [],
   "source": [
    "from random import choices"
   ]
  },
  {
   "cell_type": "markdown",
   "metadata": {},
   "source": [
    "<span style=\"color:white;font-size:2em;font-weight:bold;padding-right: 30px;\">1.</span> Exécuter le code suivant pour obtenir une réalisation de $X$ :"
   ]
  },
  {
   "cell_type": "code",
   "execution_count": 4,
   "metadata": {},
   "outputs": [
    {
     "data": {
      "text/plain": [
       "0"
      ]
     },
     "execution_count": 4,
     "metadata": {},
     "output_type": "execute_result"
    }
   ],
   "source": [
    "choices(V['Mois'], V['Fréquences'], k = 1)[0]"
   ]
  },
  {
   "cell_type": "markdown",
   "metadata": {},
   "source": [
    "<span style=\"color:black;font-size:2em;font-weight:bold;padding-right: 30px;\">3.</span> La fonction <b>SX</b> <em>(sans paramètre)</em> ci-dessous, renvoie une simulation de $X$."
   ]
  },
  {
   "cell_type": "code",
   "execution_count": 5,
   "metadata": {},
   "outputs": [],
   "source": [
    "def SX():\n",
    "    return choices(V['Mois'], V['Fréquences'], k = 1)[0]"
   ]
  },
  {
   "cell_type": "markdown",
   "metadata": {},
   "source": [
    "<span style=\"color:white;font-size:2em;font-weight:bold;padding-right: 30px;\">2.</span> Pour obtenir de nouveau une valeur simulée de $X$, il suffit d'exécuter le code suivant :"
   ]
  },
  {
   "cell_type": "code",
   "execution_count": 6,
   "metadata": {},
   "outputs": [
    {
     "data": {
      "text/plain": [
       "1"
      ]
     },
     "execution_count": 6,
     "metadata": {},
     "output_type": "execute_result"
    }
   ],
   "source": [
    "SX()"
   ]
  },
  {
   "cell_type": "markdown",
   "metadata": {},
   "source": [
    "<h1 style=\"font-family:Comic Sans MS;color:white;background-color:#B9B9B9;text-align:center\"> <span style=\"font-size:2em;font-weight:bold;padding-right: 60px;color:black;\"> B.</span> Loi de probabilité de $Y$</h1> "
   ]
  },
  {
   "cell_type": "markdown",
   "metadata": {},
   "source": [
    "<span style=\"color:black;font-size:2em;font-weight:bold;padding-right: 30px;\">1.</span> Exécuter le code suivant pour charger la distribution des fréquences du montant des travaux."
   ]
  },
  {
   "cell_type": "code",
   "execution_count": 7,
   "metadata": {
    "scrolled": false
   },
   "outputs": [
    {
     "data": {
      "text/html": [
       "<div>\n",
       "<style scoped>\n",
       "    .dataframe tbody tr th:only-of-type {\n",
       "        vertical-align: middle;\n",
       "    }\n",
       "\n",
       "    .dataframe tbody tr th {\n",
       "        vertical-align: top;\n",
       "    }\n",
       "\n",
       "    .dataframe thead th {\n",
       "        text-align: right;\n",
       "    }\n",
       "</style>\n",
       "<table border=\"1\" class=\"dataframe\">\n",
       "  <thead>\n",
       "    <tr style=\"text-align: right;\">\n",
       "      <th></th>\n",
       "      <th>Montants</th>\n",
       "      <th>Fréquences</th>\n",
       "    </tr>\n",
       "  </thead>\n",
       "  <tbody>\n",
       "    <tr>\n",
       "      <th>0</th>\n",
       "      <td>100</td>\n",
       "      <td>0.02</td>\n",
       "    </tr>\n",
       "    <tr>\n",
       "      <th>1</th>\n",
       "      <td>200</td>\n",
       "      <td>0.03</td>\n",
       "    </tr>\n",
       "    <tr>\n",
       "      <th>2</th>\n",
       "      <td>300</td>\n",
       "      <td>0.04</td>\n",
       "    </tr>\n",
       "    <tr>\n",
       "      <th>3</th>\n",
       "      <td>400</td>\n",
       "      <td>0.06</td>\n",
       "    </tr>\n",
       "    <tr>\n",
       "      <th>4</th>\n",
       "      <td>500</td>\n",
       "      <td>0.09</td>\n",
       "    </tr>\n",
       "    <tr>\n",
       "      <th>5</th>\n",
       "      <td>600</td>\n",
       "      <td>0.10</td>\n",
       "    </tr>\n",
       "    <tr>\n",
       "      <th>6</th>\n",
       "      <td>700</td>\n",
       "      <td>0.08</td>\n",
       "    </tr>\n",
       "    <tr>\n",
       "      <th>7</th>\n",
       "      <td>800</td>\n",
       "      <td>0.08</td>\n",
       "    </tr>\n",
       "    <tr>\n",
       "      <th>8</th>\n",
       "      <td>900</td>\n",
       "      <td>0.06</td>\n",
       "    </tr>\n",
       "    <tr>\n",
       "      <th>9</th>\n",
       "      <td>1000</td>\n",
       "      <td>0.05</td>\n",
       "    </tr>\n",
       "    <tr>\n",
       "      <th>10</th>\n",
       "      <td>1100</td>\n",
       "      <td>0.05</td>\n",
       "    </tr>\n",
       "    <tr>\n",
       "      <th>11</th>\n",
       "      <td>1200</td>\n",
       "      <td>0.04</td>\n",
       "    </tr>\n",
       "    <tr>\n",
       "      <th>12</th>\n",
       "      <td>1300</td>\n",
       "      <td>0.04</td>\n",
       "    </tr>\n",
       "    <tr>\n",
       "      <th>13</th>\n",
       "      <td>1400</td>\n",
       "      <td>0.04</td>\n",
       "    </tr>\n",
       "    <tr>\n",
       "      <th>14</th>\n",
       "      <td>1500</td>\n",
       "      <td>0.03</td>\n",
       "    </tr>\n",
       "    <tr>\n",
       "      <th>15</th>\n",
       "      <td>1600</td>\n",
       "      <td>0.03</td>\n",
       "    </tr>\n",
       "    <tr>\n",
       "      <th>16</th>\n",
       "      <td>1700</td>\n",
       "      <td>0.02</td>\n",
       "    </tr>\n",
       "    <tr>\n",
       "      <th>17</th>\n",
       "      <td>1800</td>\n",
       "      <td>0.02</td>\n",
       "    </tr>\n",
       "    <tr>\n",
       "      <th>18</th>\n",
       "      <td>1900</td>\n",
       "      <td>0.01</td>\n",
       "    </tr>\n",
       "    <tr>\n",
       "      <th>19</th>\n",
       "      <td>2000</td>\n",
       "      <td>0.01</td>\n",
       "    </tr>\n",
       "    <tr>\n",
       "      <th>20</th>\n",
       "      <td>2100</td>\n",
       "      <td>0.01</td>\n",
       "    </tr>\n",
       "    <tr>\n",
       "      <th>21</th>\n",
       "      <td>2200</td>\n",
       "      <td>0.01</td>\n",
       "    </tr>\n",
       "    <tr>\n",
       "      <th>22</th>\n",
       "      <td>2300</td>\n",
       "      <td>0.01</td>\n",
       "    </tr>\n",
       "    <tr>\n",
       "      <th>23</th>\n",
       "      <td>2400</td>\n",
       "      <td>0.01</td>\n",
       "    </tr>\n",
       "    <tr>\n",
       "      <th>24</th>\n",
       "      <td>2500</td>\n",
       "      <td>0.01</td>\n",
       "    </tr>\n",
       "    <tr>\n",
       "      <th>25</th>\n",
       "      <td>2600</td>\n",
       "      <td>0.01</td>\n",
       "    </tr>\n",
       "    <tr>\n",
       "      <th>26</th>\n",
       "      <td>2700</td>\n",
       "      <td>0.01</td>\n",
       "    </tr>\n",
       "    <tr>\n",
       "      <th>27</th>\n",
       "      <td>2800</td>\n",
       "      <td>0.01</td>\n",
       "    </tr>\n",
       "    <tr>\n",
       "      <th>28</th>\n",
       "      <td>2900</td>\n",
       "      <td>0.01</td>\n",
       "    </tr>\n",
       "    <tr>\n",
       "      <th>29</th>\n",
       "      <td>3000</td>\n",
       "      <td>0.01</td>\n",
       "    </tr>\n",
       "  </tbody>\n",
       "</table>\n",
       "</div>"
      ],
      "text/plain": [
       "    Montants  Fréquences\n",
       "0        100        0.02\n",
       "1        200        0.03\n",
       "2        300        0.04\n",
       "3        400        0.06\n",
       "4        500        0.09\n",
       "5        600        0.10\n",
       "6        700        0.08\n",
       "7        800        0.08\n",
       "8        900        0.06\n",
       "9       1000        0.05\n",
       "10      1100        0.05\n",
       "11      1200        0.04\n",
       "12      1300        0.04\n",
       "13      1400        0.04\n",
       "14      1500        0.03\n",
       "15      1600        0.03\n",
       "16      1700        0.02\n",
       "17      1800        0.02\n",
       "18      1900        0.01\n",
       "19      2000        0.01\n",
       "20      2100        0.01\n",
       "21      2200        0.01\n",
       "22      2300        0.01\n",
       "23      2400        0.01\n",
       "24      2500        0.01\n",
       "25      2600        0.01\n",
       "26      2700        0.01\n",
       "27      2800        0.01\n",
       "28      2900        0.01\n",
       "29      3000        0.01"
      ]
     },
     "execution_count": 7,
     "metadata": {},
     "output_type": "execute_result"
    }
   ],
   "source": [
    "T = pa.read_excel('location.xls', sheet_name = 'Travaux')\n",
    "T"
   ]
  },
  {
   "cell_type": "markdown",
   "metadata": {},
   "source": [
    "<span style=\"color:black;font-size:2em;font-weight:bold;padding-right: 30px;color:white\">1.</span> Exécuter le code suivant pour visualiser cette distribution."
   ]
  },
  {
   "cell_type": "code",
   "execution_count": 8,
   "metadata": {},
   "outputs": [
    {
     "data": {
      "text/plain": [
       "<AxesSubplot:xlabel='Montants'>"
      ]
     },
     "execution_count": 8,
     "metadata": {},
     "output_type": "execute_result"
    },
    {
     "data": {
      "image/png": "[encoded data removed]",
      "text/plain": [
       "<Figure size 432x288 with 1 Axes>"
      ]
     },
     "metadata": {
      "needs_background": "light"
     },
     "output_type": "display_data"
    }
   ],
   "source": [
    "T.plot.bar(x = 'Montants', y = 'Fréquences', \n",
    "           align = 'edge', width = 100, \n",
    "           edgecolor = 'black', facecolor = 'gray')"
   ]
  },
  {
   "cell_type": "markdown",
   "metadata": {},
   "source": [
    "<div style=\"color:black;font-size:2em;font-weight:bold\">Loi de probabilité de $Y$</div> \n",
    "<blockquote style=\"background-color:#DDD;padding:10px;border-left: 4px solid;margin-left: 60px;padding-left: 30px\">\n",
    "    <table><tr><td style=\"border:1px solid black;\"><b><b>$Y$</b></b></td><td style=\"text-align: right;border:1px solid black;\">100   </td><td style=\"text-align: right;border:1px solid black;\">200   </td><td style=\"text-align: right;border:1px solid black;\">300   </td><td style=\"text-align: right;border:1px solid black;\">400   </td><td style=\"text-align: right;border:1px solid black;\">500   </td><td style=\"text-align: right;border:1px solid black;\">600  </td><td style=\"text-align: right;border:1px solid black;\">700   </td><td style=\"text-align: right;border:1px solid black;\">800   </td><td style=\"text-align: right;border:1px solid black;\">900   </td><td style=\"text-align: right;border:1px solid black;\">1000   </td><td style=\"text-align: right;border:1px solid black;\">1100   </td><td style=\"text-align: right;border:1px solid black;\">1200   </td><td style=\"text-align: right;border:1px solid black;\">1300   </td><td style=\"text-align: right;border:1px solid black;\">1400   </td><td style=\"text-align: right;border:1px solid black;\">1500   </td><td style=\"text-align: right;border:1px solid black;\">1600   </td><td style=\"text-align: right;border:1px solid black;\">1700   </td><td style=\"text-align: right;border:1px solid black;\">1800   </td><td style=\"text-align: right;border:1px solid black;\">1900   </td><td style=\"text-align: right;border:1px solid black;\">2000   </td><td style=\"text-align: right;border:1px solid black;\">2100   </td><td style=\"text-align: right;border:1px solid black;\">2200   </td><td style=\"text-align: right;border:1px solid black;\">2300   </td><td style=\"text-align: right;border:1px solid black;\">2400   </td><td style=\"text-align: right;border:1px solid black;\">2500   </td><td style=\"text-align: right;border:1px solid black;\">2600   </td><td style=\"text-align: right;border:1px solid black;\">2700   </td><td style=\"text-align: right;border:1px solid black;\">2800   </td><td style=\"text-align: right;border:1px solid black;\">2900   </td><td style=\"text-align: right;border:1px solid black;\">3000   </td></tr>    <tr><td style=\"border:1px solid black;\"><b>Probabilité</b>   </td><td style=\"text-align: right;border:1px solid black;\">  0.02</td><td style=\"text-align: right;border:1px solid black;\">  0.03</td><td style=\"text-align: right;border:1px solid black;\">  0.04</td><td style=\"text-align: right;border:1px solid black;\">  0.06</td><td style=\"text-align: right;border:1px solid black;\">  0.09</td><td style=\"text-align: right;border:1px solid black;\">  0.1</td><td style=\"text-align: right;border:1px solid black;\">  0.08</td><td style=\"text-align: right;border:1px solid black;\">  0.08</td><td style=\"text-align: right;border:1px solid black;\">  0.06</td><td style=\"text-align: right;border:1px solid black;\">   0.05</td><td style=\"text-align: right;border:1px solid black;\">   0.05</td><td style=\"text-align: right;border:1px solid black;\">   0.04</td><td style=\"text-align: right;border:1px solid black;\">   0.04</td><td style=\"text-align: right;border:1px solid black;\">   0.04</td><td style=\"text-align: right;border:1px solid black;\">   0.03</td><td style=\"text-align: right;border:1px solid black;\">   0.03</td><td style=\"text-align: right;border:1px solid black;\">   0.02</td><td style=\"text-align: right;border:1px solid black;\">   0.02</td><td style=\"text-align: right;border:1px solid black;\">   0.01</td><td style=\"text-align: right;border:1px solid black;\">   0.01</td><td style=\"text-align: right;border:1px solid black;\">   0.01</td><td style=\"text-align: right;border:1px solid black;\">   0.01</td><td style=\"text-align: right;border:1px solid black;\">   0.01</td><td style=\"text-align: right;border:1px solid black;\">   0.01</td><td style=\"text-align: right;border:1px solid black;\">   0.01</td><td style=\"text-align: right;border:1px solid black;\">   0.01</td><td style=\"text-align: right;border:1px solid black;\">   0.01</td><td style=\"text-align: right;border:1px solid black;\">   0.01</td><td style=\"text-align: right;border:1px solid black;\">   0.01</td><td style=\"text-align: right;border:1px solid black;\">   0.01</td></tr></table>\n",
    "</blockquote>"
   ]
  },
  {
   "cell_type": "markdown",
   "metadata": {},
   "source": [
    "<span style=\"color:black;font-size:2em;font-weight:bold;padding-right: 30px;\">2.</span> Compléter la fonction <b>SY</b> <em>(sans paramètre)</em> ci-dessous, qui renvoie une simulation de $Y$."
   ]
  },
  {
   "cell_type": "code",
   "execution_count": 9,
   "metadata": {},
   "outputs": [],
   "source": [
    "def SY():\n",
    "    return choices(T['Montants'], T['Fréquences'], k = 1)[0]"
   ]
  },
  {
   "cell_type": "markdown",
   "metadata": {},
   "source": [
    "<span style=\"color:white;font-size:2em;font-weight:bold;padding-right: 30px;\">2.</span> Pour obtenir de nouveau une valeur simulée de $Y$, il suffit d'exécuter le code suivant :"
   ]
  },
  {
   "cell_type": "code",
   "execution_count": 10,
   "metadata": {},
   "outputs": [
    {
     "data": {
      "text/plain": [
       "1000"
      ]
     },
     "execution_count": 10,
     "metadata": {},
     "output_type": "execute_result"
    }
   ],
   "source": [
    "SY()"
   ]
  },
  {
   "cell_type": "markdown",
   "metadata": {},
   "source": [
    "<h1 style=\"font-family:Comic Sans MS;color:white;background-color:#B9B9B9;text-align:center\"> <span style=\"font-size:2em;font-weight:bold;padding-right: 60px;color:black;\"> C.</span> Revenus locatifs</h1>"
   ]
  },
  {
   "cell_type": "markdown",
   "metadata": {},
   "source": [
    "<div style=\"color:black;font-size:2em;font-weight:bold\">Définitions :</div> \n",
    "<blockquote style=\"background-color:#DDD;padding:10px;border-left: 4px solid;margin-left: 60px;padding-left: 30px\">\n",
    "    <ul>\n",
    "        <li>Les <b>revenus locatifs</b> sont les loyers perçus sur l'année.</li>\n",
    "        <li>Les <b>frais annuels</b> sont constitués de :\n",
    "    <br>\n",
    "<style>\n",
    "      table {\n",
    "        border-collapse: collapse;\n",
    "      }\n",
    "      td {border: 1px solid black;},\n",
    "      th {\n",
    "        padding: 10px;\n",
    "        border-bottom: 2px solid #8ebf42;\n",
    "        text-align: center;\n",
    "      }\n",
    "</style>\n",
    "<table style=\"border-width:2px;border-style:solid;border-color:#F0573B\" width=\"420\">\n",
    "    <tr style=\"border:2px solid black;\">\n",
    "        <td style=\"border:2px solid black;text-align:center;\"bgcolor='white'>Charges copropriété</td>\n",
    "           <td style=\"border:2px solid black;text-align:center;\"bgcolor='white'>600 €</td>\n",
    "   </tr>\n",
    "     <tr style=\"border:2px solid black;\">\n",
    "        <td style=\"border:2px solid black;text-align:center;\"bgcolor='white'>Assurances (PNO, loyers impayés)</td>\n",
    "       <td style=\"border:2px solid black;text-align:center;\"bgcolor='white'>220 €</td>\n",
    "   </tr>\n",
    "     <tr style=\"border:2px solid black;\">\n",
    "        <td style=\"border:2px solid black;text-align:center;\"bgcolor='white'>Taxe foncière</td>\n",
    "       <td style=\"border:2px solid black;text-align:center;\"bgcolor='white'>800 €</td>\n",
    "   </tr>\n",
    "     <tr style=\"border:2px solid black;\">\n",
    "        <td style=\"border:2px solid black;text-align:center;\"bgcolor='white'>Gestion locative</td>\n",
    "       <td style=\"border:2px solid black;text-align:center;\"bgcolor='white'>1 000 €</td>\n",
    "   </tr>\n",
    "     <tr style=\"border:2px solid black;\">\n",
    "        <td style=\"border:2px solid black;text-align:center;\"bgcolor='white'>Travaux d'entretiens</td>\n",
    "       <td style=\"border:2px solid black;text-align:center;\"bgcolor='white'> $Y$ </td>\n",
    "   </tr>\n",
    "</table>\n",
    "        </li>\n",
    "        <li>Le <b>gain</b> <em>(algébrique)</em> obtenu lors de la location est l'argent récolté par le propriétaire.</li>\n",
    "        <li> Le <b>rendement locatif <em>(net)</em></b> est la part du gain <em>(algébrique)</em> relativement au prix du bien. </li>\n",
    "    </ul>\n",
    "</blockquote>"
   ]
  },
  {
   "cell_type": "markdown",
   "metadata": {},
   "source": [
    "<span style=\"color:black;font-size:2em;font-weight:bold;padding-right: 30px;\">1.</span> L'apartement est loué $680€$ par mois durant une année. \n",
    "<br><span style=\"color:black;font-size:2em;font-weight:bold;padding-right: 30px;color:white\">1.</span> Exprimer les revenus locatifs en fonction de $X$."
   ]
  },
  {
   "cell_type": "markdown",
   "metadata": {},
   "source": [
    "<span style=\"color:black;font-size:2em;font-weight:bold;padding-right: 30px;\">2.</span> Exprimer le gain <i>(algébrique)</i> en fonction de $X$ et $Y$."
   ]
  },
  {
   "cell_type": "markdown",
   "metadata": {},
   "source": [
    "<span style=\"color:black;font-size:2em;font-weight:bold;padding-right: 30px;\">3.</span> Exprimer le rendement locatif en fonction de $X$ et $Y$."
   ]
  },
  {
   "cell_type": "markdown",
   "metadata": {},
   "source": [
    "<span style=\"color:black;font-size:2em;font-weight:bold;padding-right: 30px;\">4.</span> Définir la fonction python nommée <b>R</b> de paramètres <code style='background-color:white'>L</code> <em>(le montant du loyer)</em>, <code style='background-color:white'>X</code> <em>(le nombre de mois vacants)</em> et <code style='background-color:white'>Y</code> <em>(le montant des travaux)</em> qui renvoie le <b>rendement locatif</b>."
   ]
  },
  {
   "cell_type": "code",
   "execution_count": 11,
   "metadata": {},
   "outputs": [],
   "source": [
    "def R(L, X, Y):\n",
    "    revenus = L * (12 - X)\n",
    "    frais = Y + (600 + 220 + 800 + 1000)\n",
    "    return (revenus - frais) / 103000"
   ]
  },
  {
   "cell_type": "markdown",
   "metadata": {},
   "source": [
    "<span style=\"color:black;font-size:2em;font-weight:bold;padding-right: 30px;\">5.</span> Vérifier que le <b>rendement locatif</b> du bien  immobilier loué à temps plein et sans travaux est environ égal à $5,4\\%$."
   ]
  },
  {
   "cell_type": "code",
   "execution_count": 12,
   "metadata": {},
   "outputs": [
    {
     "data": {
      "text/plain": [
       "0.05378640776699029"
      ]
     },
     "execution_count": 12,
     "metadata": {},
     "output_type": "execute_result"
    }
   ],
   "source": [
    "R(680, 0, 0)"
   ]
  },
  {
   "cell_type": "markdown",
   "metadata": {},
   "source": [
    "<span style=\"color:black;font-size:2em;font-weight:bold;padding-right: 30px;\">6.</span> Calculer le <b>rendement locatif</b> pour le bien loué à temps plein avec 500 € de travaux annuel."
   ]
  },
  {
   "cell_type": "code",
   "execution_count": 13,
   "metadata": {},
   "outputs": [
    {
     "data": {
      "text/plain": [
       "0.04893203883495146"
      ]
     },
     "execution_count": 13,
     "metadata": {},
     "output_type": "execute_result"
    }
   ],
   "source": [
    "R(680, 0, 500)"
   ]
  },
  {
   "cell_type": "markdown",
   "metadata": {},
   "source": [
    "<h1 style=\"font-family:Comic Sans MS;color:white;background-color:#B9B9B9;text-align:center\"> <span style=\"font-size:2em;font-weight:bold;padding-right: 60px;color:black;\"> D.</span> Simuler le rendement locatif</h1>"
   ]
  },
  {
   "cell_type": "markdown",
   "metadata": {},
   "source": [
    "<div style=\"color:black;font-size:2em;font-weight:bold\">Objectif :</div> \n",
    "<blockquote style=\"background-color:#DDD;padding:10px;border-left: 4px solid;margin-left: 60px;padding-left: 30px\">\n",
    "   \n",
    "<ul>\n",
    "        <li> Le propriétaire décide de louer son bien $700€$.</li>\n",
    "        <li> Le <b>rendement locatif</b> annuel est une variable aléatoire notée $R$ que l'on pourra simuler à l'aide de la fonction <b>R</b> écrite plus haut.</li>\n",
    "    </ul>\n",
    "</blockquote>"
   ]
  },
  {
   "cell_type": "markdown",
   "metadata": {},
   "source": [
    "<span style=\"color:black;font-size:2em;font-weight:bold;padding-right: 30px;\">1.</span> Simuler un rendement locatif."
   ]
  },
  {
   "cell_type": "code",
   "execution_count": 14,
   "metadata": {},
   "outputs": [
    {
     "data": {
      "text/plain": [
       "0.04252427184466019"
      ]
     },
     "execution_count": 14,
     "metadata": {},
     "output_type": "execute_result"
    }
   ],
   "source": [
    "R(700, SX(), SY())"
   ]
  },
  {
   "cell_type": "markdown",
   "metadata": {},
   "source": [
    "<span style=\"color:black;font-size:2em;font-weight:bold;padding-right: 30px;\">2.</span> Compléter le code suivant pour simuler une liste nommée <code style='background-color:white'>LR</code> de $500\\,000$ de rendements."
   ]
  },
  {
   "cell_type": "code",
   "execution_count": 15,
   "metadata": {},
   "outputs": [],
   "source": [
    "LR = [R(700, SX(), SY()) for k in range(500000)]"
   ]
  },
  {
   "cell_type": "markdown",
   "metadata": {},
   "source": [
    "<span style=\"color:black;font-size:2em;font-weight:bold;padding-right: 30px;color:white\">2.</span> Exécuter le code suivant pour visualiser la distribution des fréquences de réalisations de $R$"
   ]
  },
  {
   "cell_type": "code",
   "execution_count": 16,
   "metadata": {},
   "outputs": [
    {
     "data": {
      "image/png": "[encoded data removed]",
      "text/plain": [
       "<Figure size 432x288 with 1 Axes>"
      ]
     },
     "metadata": {
      "needs_background": "light"
     },
     "output_type": "display_data"
    }
   ],
   "source": [
    "import pylab as pl\n",
    "\n",
    "pl.hist(LR, bins = 20, edgecolor = 'black', facecolor = 'gray')\n",
    "pl.show()"
   ]
  },
  {
   "cell_type": "markdown",
   "metadata": {},
   "source": [
    "<h1 style=\"font-family:Comic Sans MS;color:white;background-color:#B9B9B9;text-align:center\"> <span style=\"font-size:2em;font-weight:bold;padding-right: 60px;color:black;\"> E.</span> Rendement moyen et Value at Risk</h1>"
   ]
  },
  {
   "cell_type": "markdown",
   "metadata": {},
   "source": [
    "<div style=\"color:black;font-size:2em;font-weight:bold\">Définition :</div> \n",
    "<blockquote style=\"background-color:#DDD;padding:10px;border-left: 4px solid;margin-left: 60px;padding-left: 30px\">Le  <b>rendement locatif moyen</b> est la moyenne d'un grand nombre de rendements locatifs simulés.\n",
    "</blockquote>"
   ]
  },
  {
   "cell_type": "markdown",
   "metadata": {},
   "source": [
    "<span style=\"color:black;font-size:2em;font-weight:bold;padding-right: 30px;\">1.</span> Calculer le <b>rendement locatif moyen lorsque le loyer est de $700€$</b>. <em>(Utiliser la liste <code style=\"background-color:white\">LR</code> créée précédemment)</em>."
   ]
  },
  {
   "cell_type": "code",
   "execution_count": 17,
   "metadata": {},
   "outputs": [
    {
     "data": {
      "text/plain": [
       "0.03784020970873785"
      ]
     },
     "execution_count": 17,
     "metadata": {},
     "output_type": "execute_result"
    }
   ],
   "source": [
    "import numpy as np\n",
    "\n",
    "np.mean(LR)"
   ]
  },
  {
   "cell_type": "markdown",
   "metadata": {},
   "source": [
    "<div style=\"color:black;font-size:2em;font-weight:bold\">Aide :</div> \n",
    "<blockquote style=\"border-left: 5px solid black;background-color:#DAF7A6;margin-left: 60px;padding-left: 30px\">\n",
    "    Le module <b>numpy</b> permet de calculer les paramètres statistiques d'une liste <code style='background-color:#DAF7A6'>L</code>.\n",
    "<table style=\"border-width:2px;border-style:solid;border-color:black\" width=\"420\">\n",
    "    <tr style=\"border:2px solid #F0573B;\">\n",
    "        <td style=\"border:2px solid black;text-align:center;\"bgcolor='white'><b>Instruction</b></td>\n",
    "           <td style=\"border:2px solid black;text-align:center;\"bgcolor='white'><b>Permet d'obtenir</b></td>\n",
    "   </tr>\n",
    "     <tr style=\"border:2px solid black;\">\n",
    "        <td style=\"border:2px solid black;text-align:left;\"bgcolor='white'><code style='background-color:white'>np.mean(L)</code></td>\n",
    "       <td style=\"border:2px solid black;text-align:left;\"bgcolor='white'>la moyenne de <code style='background-color:white'>L</code></td>\n",
    "   </tr>\n",
    "     <tr style=\"border:2px solid black;\">\n",
    "        <td style=\"border:2px solid black;text-align:left;\"bgcolor='white'><code style='background-color:white'>np.std(L, ddof = 0)</code></td>\n",
    "       <td style=\"border:2px solid black;text-align:left;\"bgcolor='white'>l'écart-type de <code style='background-color:white'>L</code></td>\n",
    "   </tr>\n",
    "     <tr style=\"border:2px solid black;\">\n",
    "        <td style=\"border:2px solid black;text-align:left;\"bgcolor='white'><code style='background-color:white'>np.quantile(L, p)</code></td>\n",
    "       <td style=\"border:2px solid black;text-align:left;\"bgcolor='white'>le <code style='background-color:white'>p</code>-ième quantile de <code style='background-color:white'>L</code></td>\n",
    "   </tr>\n",
    "</table>\n",
    "</blockquote>"
   ]
  },
  {
   "cell_type": "markdown",
   "metadata": {},
   "source": [
    "<div style=\"color:black;font-size:2em;font-weight:bold\">Définition :</div> \n",
    "<blockquote style=\"background-color:#DDD;padding:10px;border-left: 4px solid;margin-left: 60px;padding-left: 30px\"> La  <b>Value at Risk</b> à 5%, notée <b>Var</b>, est la valeur supérieure ou égale aux 5% des rendements les plus faibles.\n",
    "</blockquote>"
   ]
  },
  {
   "cell_type": "markdown",
   "metadata": {},
   "source": [
    "<span style=\"color:black;font-size:2em;font-weight:bold;padding-right: 30px;\">2.</span> Calculer la <b>Var</b> du rendement locatif."
   ]
  },
  {
   "cell_type": "code",
   "execution_count": 18,
   "metadata": {},
   "outputs": [
    {
     "data": {
      "text/plain": [
       "0.015339805825242718"
      ]
     },
     "execution_count": 18,
     "metadata": {},
     "output_type": "execute_result"
    }
   ],
   "source": [
    "np.quantile(LR, 0.05)"
   ]
  },
  {
   "cell_type": "code",
   "execution_count": null,
   "metadata": {},
   "outputs": [],
   "source": []
  }
 ],
 "metadata": {
  "kernelspec": {
   "display_name": "Python 3",
   "language": "python",
   "name": "python3"
  },
  "language_info": {
   "codemirror_mode": {
    "name": "ipython",
    "version": 3
   },
   "file_extension": ".py",
   "mimetype": "text/x-python",
   "name": "python",
   "nbconvert_exporter": "python",
   "pygments_lexer": "ipython3",
   "version": "3.8.6"
  }
 },
 "nbformat": 4,
 "nbformat_minor": 4
}
