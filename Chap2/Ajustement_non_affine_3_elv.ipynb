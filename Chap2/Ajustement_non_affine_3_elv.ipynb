{
 "cells": [
  {
   "cell_type": "markdown",
   "metadata": {},
   "source": [
    "<img src=\"https://raw.githubusercontent.com/lyceeHM/Terminale_Spe/master/python_lycee.png\">\n",
    "<div id=\"titre\">\n",
    "<h1 style=\"color:white;\n",
    "  font-family:Comic Sans MS;\n",
    "  font-size:3em;\n",
    "  background-color:black;\n",
    "  text-align:center;\n",
    "  padding:5px\">Vers un ajustement non affine III</h1>\n",
    "<div style=\"font-family:Comic Sans MS; background-color:#888;box-shadow: 8px 8px 0px #aaa; text-align:center; width: 50%; color:white\">TSTMGM : Chapitre 2 - Regression linéaire</div>\n",
    "</div>"
   ]
  },
  {
   "cell_type": "markdown",
   "metadata": {},
   "source": [
    "<div style='background-color:#AAA;padding:10px;border-left: 1rem solid'>\n",
    "    Le tableau ci-dessous donne les ventes annuelles (en millions) de disques vinyles aux États-Unis de 2004 à 2014.\n",
    "    <br>\n",
    "    <table>\n",
    "    <tbody>\n",
    "         <tr>\n",
    "            <td style=\"background-color:white;border: 1px solid black;\">Année</td>\n",
    "            <td style=\"background-color:white;border: 1px solid black;text-align:center;width:50px\">2004</td>\n",
    "            <td style=\"background-color:white;border: 1px solid black;text-align:center;width:50px\">2005</td>\n",
    "            <td style=\"background-color:white;border: 1px solid black;text-align:center;width:50px\">2006</td>\n",
    "            <td style=\"background-color:white;border: 1px solid black;text-align:center;width:50px\">2007</td>\n",
    "            <td style=\"background-color:white;border: 1px solid black;text-align:center;width:50px\">2008</td>\n",
    "            <td style=\"background-color:white;border: 1px solid black;text-align:center;width:50px\">2009</td>\n",
    "            <td style=\"background-color:white;border: 1px solid black;text-align:center;width:50px\">2010</td>\n",
    "            <td style=\"background-color:white;border: 1px solid black;text-align:center;width:50px\">2011</td>\n",
    "            <td style=\"background-color:white;border: 1px solid black;text-align:center;width:50px\">2012</td>\n",
    "            <td style=\"background-color:white;border: 1px solid black;text-align:center;width:50px\">2013</td>\n",
    "            <td style=\"background-color:white;border: 1px solid black;text-align:center;width:50px\">2014</td>\n",
    "        </tr>\n",
    "        <tr>\n",
    "            <td style=\"background-color:white;border: 1px solid black;\">Rang $x_i$</td>\n",
    "            <td style=\"background-color:white;border: 1px solid black;text-align:center;width:50px\">$1$</td>\n",
    "            <td style=\"background-color:white;border: 1px solid black;text-align:center;width:50px\">$2$</td>\n",
    "            <td style=\"background-color:white;border: 1px solid black;text-align:center;width:50px\">$3$</td>\n",
    "            <td style=\"background-color:white;border: 1px solid black;text-align:center;width:50px\">$4$</td>\n",
    "            <td style=\"background-color:white;border: 1px solid black;text-align:center;width:50px\">$5$</td>\n",
    "            <td style=\"background-color:white;border: 1px solid black;text-align:center;width:50px\">$6$</td>\n",
    "            <td style=\"background-color:white;border: 1px solid black;text-align:center;width:50px\">$7$</td>\n",
    "            <td style=\"background-color:white;border: 1px solid black;text-align:center;width:50px\">$8$</td>\n",
    "            <td style=\"background-color:white;border: 1px solid black;text-align:center;width:50px\">$9$</td>\n",
    "            <td style=\"background-color:white;border: 1px solid black;text-align:center;width:50px\">$10$</td>\n",
    "            <td style=\"background-color:white;border: 1px solid black;text-align:center;width:50px\">$11$</td>\n",
    "        </tr>\n",
    "        <tr>\n",
    "            <td style=\"background-color:white;border: 1px solid black;width:200px\">Ventes $y_i$</td>\n",
    "            <td style=\"background-color:white;border: 1px solid black;text-align:center;width:50px\">$1,2$</td>\n",
    "            <td style=\"background-color:white;border: 1px solid black;text-align:center;width:50px\">$0,9$</td>\n",
    "            <td style=\"background-color:white;border: 1px solid black;text-align:center;width:50px\">$0,9$</td>\n",
    "            <td style=\"background-color:white;border: 1px solid black;text-align:center;width:50px\">$1$</td>\n",
    "            <td style=\"background-color:white;border: 1px solid black;text-align:center;width:50px\">$1,9$</td>\n",
    "            <td style=\"background-color:white;border: 1px solid black;text-align:center;width:50px\">$2,5$</td>\n",
    "            <td style=\"background-color:white;border: 1px solid black;text-align:center;width:50px\">$2,8$</td>\n",
    "            <td style=\"background-color:white;border: 1px solid black;text-align:center;width:50px\">$3,6$</td>\n",
    "            <td style=\"background-color:white;border: 1px solid black;text-align:center;width:50px\">$4,6$</td>\n",
    "            <td style=\"background-color:white;border: 1px solid black;text-align:center;width:50px\">$6,1$</td>\n",
    "            <td style=\"background-color:white;border: 1px solid black;text-align:center;width:50px\">$9,2$</td>\n",
    "        </tr>\n",
    "    </tbody>\n",
    "</table>\n",
    "</div>"
   ]
  },
  {
   "cell_type": "markdown",
   "metadata": {},
   "source": [
    "## <span style=\"font-size:1.3em;font-weight:bold;padding-right: 30px;\"> 1.</span> Représentation du nuage de points"
   ]
  },
  {
   "cell_type": "markdown",
   "metadata": {},
   "source": [
    "Compléter le code suivant pour représenter le nuage des points $\\left(x_i\\,;\\,y_i\\right)$."
   ]
  },
  {
   "cell_type": "code",
   "execution_count": null,
   "metadata": {},
   "outputs": [],
   "source": [
    "import matplotlib.pyplot as plt\n",
    "\n",
    "X = [k for k in range(..., ...)]\n",
    "Y = [...]\n",
    "\n",
    "fig, ax = plt.subplots()\n",
    "ax.scatter(X, Y, s = 20)\n",
    "ax.grid()\n",
    "plt.show()"
   ]
  },
  {
   "cell_type": "markdown",
   "metadata": {},
   "source": [
    "<div style='background-color:#AAA;padding:10px;border-left: 1rem solid;margin-left: 20px;'>\n",
    "    Ajuster ce nuage par une droite n'est pas des plus pertinents, on envisage une croissance non linéaire et plus lente sur le temps. \n",
    "</div>"
   ]
  },
  {
   "cell_type": "markdown",
   "metadata": {},
   "source": [
    "## <span style=\"font-size:1.3em;font-weight:bold;padding-right: 30px;\"> 2.</span> Nouvelle série statistique $\\left(t_i\\right)$"
   ]
  },
  {
   "cell_type": "markdown",
   "metadata": {},
   "source": [
    "<span style=\"font-size:2em;font-weight:bold;padding-right: 30px;\"> a. </span> Construire la liste <code style=\"background-color:white;font-size:1.3em;\">T</code> des $t_i=\\left(x_i-3\\right)^2$."
   ]
  },
  {
   "cell_type": "code",
   "execution_count": null,
   "metadata": {},
   "outputs": [],
   "source": [
    "T = [... for x in X]"
   ]
  },
  {
   "cell_type": "markdown",
   "metadata": {},
   "source": [
    "<span style=\"font-size:2em;font-weight:bold;padding-right: 30px;\"> b. </span> Compléter le code suivant pour représenter le nuage des points $\\left(t_i\\,;\\,y_i\\right)$."
   ]
  },
  {
   "cell_type": "code",
   "execution_count": null,
   "metadata": {},
   "outputs": [],
   "source": [
    "plt.figure()\n",
    "plt.scatter(..., ..., s = 20)\n",
    "plt.grid()\n",
    "plt.show()"
   ]
  },
  {
   "cell_type": "markdown",
   "metadata": {},
   "source": [
    "<div style='background-color:#AAA;padding:10px;border-left: 1rem solid;margin-left: 20px;'>\n",
    "    <ul>\n",
    "        <li> Le nuage des points $\\left(t_i\\,;\\,y_i\\right)$ peut-être <b>ajustée</b> par une droite de &laquo; régression &raquo; d'équation $y=at+b$</li>\n",
    "        <li> On peut utiliser la fonction <b>polyfit</b> du module <b>numpy</b> pour déterminer $a$ et $b$. </li>\n",
    "    </ul>\n",
    "</div>"
   ]
  },
  {
   "cell_type": "markdown",
   "metadata": {},
   "source": [
    "<span style=\"font-size:2em;font-weight:bold;padding-right: 30px;\"> c. </span> Compléter puis exécuter le code suivant pour obtenir $a$ et $b$."
   ]
  },
  {
   "cell_type": "code",
   "execution_count": null,
   "metadata": {},
   "outputs": [],
   "source": [
    "import numpy as np\n",
    "\n",
    "a, b = np.polyfit(.., ..., 1)\n",
    "a, b"
   ]
  },
  {
   "cell_type": "markdown",
   "metadata": {},
   "source": [
    "<span style=\"font-size:2em;font-weight:bold;padding-right: 30px;\"> d. </span> Pour ajouter la droite de &laquo; régression &raquo; au nuage des points $\\left(t_i\\,;\\,y_i\\right)$, exécuter le code suivant."
   ]
  },
  {
   "cell_type": "code",
   "execution_count": null,
   "metadata": {},
   "outputs": [],
   "source": [
    "plt.plot([1, 3], [a * 1 + b, a * 3 + b], color = 'red')"
   ]
  },
  {
   "cell_type": "markdown",
   "metadata": {},
   "source": [
    "## <span style=\"font-size:1.3em;font-weight:bold;padding-right: 30px;\"> 3.</span> Nouvel ajustement du nuage des points $\\left(x_i\\,;\\,y_i\\right)$"
   ]
  },
  {
   "cell_type": "markdown",
   "metadata": {},
   "source": [
    "<div style='background-color:#AAA;padding:10px;border-left: 1rem solid;margin-left: 20px;'>\n",
    "    Ce nuage de points peut être ajusté par la courbe d'une fonction $f$ d'équation $y=f(x)$.\n",
    "</div>"
   ]
  },
  {
   "cell_type": "markdown",
   "metadata": {},
   "source": [
    "<span style=\"font-size:2em;font-weight:bold;padding-right: 30px;\"> a. </span> En utilisant que\n",
    "<blockquote style=\"border-left: 3px solid black;background-color:white;margin-left: 65px;\">\n",
    "<ul>\n",
    "    <li> $y=at+b$</li>\n",
    "    <li> $t=\\left(x-3\\right)^2$</li>\n",
    "</ul>\n",
    "exprimer $y$ en fonction de $x$.\n",
    "</blockquote>"
   ]
  },
  {
   "cell_type": "markdown",
   "metadata": {},
   "source": [
    "<span style=\"font-size:2em;font-weight:bold;padding-right: 30px;\"> b. </span> Ecrire le code python de la fonction <code style=\"background-color:white;font-size:1.3em;\">f</code>."
   ]
  },
  {
   "cell_type": "code",
   "execution_count": null,
   "metadata": {},
   "outputs": [],
   "source": [
    "def f(x):\n",
    "    return ..."
   ]
  },
  {
   "cell_type": "markdown",
   "metadata": {},
   "source": [
    "<span style=\"font-size:2em;font-weight:bold;padding-right: 30px;\"> c. </span> Compléter le code suivant permettant de représenter la courbe de la fonction $f$ par-dessus le premier nuage de points."
   ]
  },
  {
   "cell_type": "code",
   "execution_count": null,
   "metadata": {},
   "outputs": [],
   "source": [
    "XX = [k / 100 for k in range(1201)]\n",
    "L = [... for x in XX]\n",
    "ax.plot(XX, L, color = 'red')"
   ]
  },
  {
   "cell_type": "markdown",
   "metadata": {},
   "source": [
    "## <span style=\"font-size:1.3em;font-weight:bold;padding-right: 30px;\"> 4.</span> Prédiction"
   ]
  },
  {
   "cell_type": "markdown",
   "metadata": {},
   "source": [
    "<blockquote style=\"border-left: 3px solid black;background-color:white;margin-left: 60px;\">\n",
    "    À l’aide de ce modèle, estimer le nombre de ventes de vinyles en 2016.\n",
    "</blockquote>"
   ]
  },
  {
   "cell_type": "code",
   "execution_count": null,
   "metadata": {},
   "outputs": [],
   "source": []
  }
 ],
 "metadata": {
  "kernelspec": {
   "display_name": "Python 3",
   "language": "python",
   "name": "python3"
  },
  "language_info": {
   "codemirror_mode": {
    "name": "ipython",
    "version": 3
   },
   "file_extension": ".py",
   "mimetype": "text/x-python",
   "name": "python",
   "nbconvert_exporter": "python",
   "pygments_lexer": "ipython3",
   "version": "3.8.6"
  }
 },
 "nbformat": 4,
 "nbformat_minor": 2
}
