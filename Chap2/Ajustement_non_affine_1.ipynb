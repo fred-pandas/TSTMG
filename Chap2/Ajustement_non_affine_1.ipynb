{
 "cells": [
  {
   "cell_type": "markdown",
   "metadata": {},
   "source": [
    "<img src=\"https://raw.githubusercontent.com/lyceeHM/Terminale_Spe/master/python_lycee.png\">\n",
    "<div id=\"titre\">\n",
    "<h1 style=\"color:white;\n",
    "  font-family:Comic Sans MS;\n",
    "  font-size:3em;\n",
    "  background-color:black;\n",
    "  text-align:center;\n",
    "  padding:5px\">Vers un ajustement non affine I</h1>\n",
    "<div style=\"font-family:Comic Sans MS; background-color:#888;box-shadow: 8px 8px 0px #aaa; text-align:center; width: 50%; color:white\">TSTMGM : Chapitre 2 - Regression linéaire</div>\n",
    "</div>"
   ]
  },
  {
   "cell_type": "markdown",
   "metadata": {},
   "source": [
    "<div style='background-color:#AAA;padding:10px;border-left: 1rem solid'>\n",
    "    Chez une ostréicultrice <em>(productrice d'huîtres)</em>\n",
    "d'un village au bord de l'Atlantique, la bactérie appelée Vibrio\n",
    "estuarianus est apparue à partir du mois d'aout 2019.\n",
    "    <br> Le tableau ci-dessous donne la quantité $y_i$ <em>(exprimée en tonnes)</em> d'huîtres affectées par cette bactérie dans l'élevage en fonction de $x_i$ qui représente le numéro du mois depuis l'apparition\n",
    "de la bactérie.\n",
    "    <br>\n",
    "    <table>\n",
    "    <tbody>\n",
    "        <tr>\n",
    "            <td style=\"background-color:white;border: 1px solid black;\">$x_i$</td>\n",
    "            <td style=\"background-color:white;border: 1px solid black;\">$1$</td>\n",
    "            <td style=\"background-color:white;border: 1px solid black;\">$2$</td>\n",
    "            <td style=\"background-color:white;border: 1px solid black;\">$3$</td>\n",
    "            <td style=\"background-color:white;border: 1px solid black;\">$4$</td>\n",
    "            <td style=\"background-color:white;border: 1px solid black;\">$5$</td>\n",
    "            <td style=\"background-color:white;border: 1px solid black;\">$6$</td>\n",
    "            <td style=\"background-color:white;border: 1px solid black;\">$7$</td>\n",
    "            <td style=\"background-color:white;border: 1px solid black;\">$8$</td>\n",
    "            <td style=\"background-color:white;border: 1px solid black;\">$9$</td>\n",
    "            <td style=\"background-color:white;border: 1px solid black;\">$10$</td>\n",
    "        </tr>\n",
    "        <tr>\n",
    "            <td style=\"background-color:white;border: 1px solid black;\">$y_i$</td>\n",
    "            <td style=\"background-color:white;border: 1px solid black;\">$20$</td>\n",
    "            <td style=\"background-color:white;border: 1px solid black;\">$210$</td>\n",
    "            <td style=\"background-color:white;border: 1px solid black;\">$320$</td>\n",
    "            <td style=\"background-color:white;border: 1px solid black;\">$390$</td>\n",
    "            <td style=\"background-color:white;border: 1px solid black;\">$440$</td>\n",
    "            <td style=\"background-color:white;border: 1px solid black;\">$480$</td>\n",
    "            <td style=\"background-color:white;border: 1px solid black;\">$510$</td>\n",
    "            <td style=\"background-color:white;border: 1px solid black;\">$540$</td>\n",
    "            <td style=\"background-color:white;border: 1px solid black;\">$560$</td>\n",
    "            <td style=\"background-color:white;border: 1px solid black;\">$570$</td>\n",
    "        </tr>\n",
    "    </tbody>\n",
    "</table>\n",
    "  <br>Le numéro 1 correspond au mois d'août 2019, le numéro 2 correspond au mois de septembre 2019 et ainsi de suite.\n",
    "</div>"
   ]
  },
  {
   "cell_type": "markdown",
   "metadata": {},
   "source": [
    "## <span style=\"font-size:1.3em;font-weight:bold;padding-right: 30px;\"> 1.</span> Représentation du nuage de points"
   ]
  },
  {
   "cell_type": "markdown",
   "metadata": {},
   "source": [
    "<span style=\"font-size:2em;font-weight:bold;padding-right: 30px;\"> a.</span> Exécuter le code suivant pour représenter le nuage des points $\\left(x_i\\,;\\,y_i\\right)$."
   ]
  },
  {
   "cell_type": "code",
   "execution_count": 1,
   "metadata": {},
   "outputs": [
    {
     "data": {
      "application/javascript": [
       "element.append(window.domNodeBus.pop(0));"
      ]
     },
     "metadata": {},
     "output_type": "display_data"
    }
   ],
   "source": [
    "import matplotlib.pyplot as plt\n",
    "\n",
    "X = [k for k in range(1, 11)]\n",
    "Y = [20, 210, 320, 390, 440, 480, 510, 540, 560, 570]\n",
    "\n",
    "fig, ax = plt.subplots()\n",
    "ax.scatter(X, Y, s = 20)\n",
    "ax.grid()\n",
    "plt.show()"
   ]
  },
  {
   "cell_type": "markdown",
   "metadata": {},
   "source": [
    "<span style=\"font-size:2em;font-weight:bold;padding-right: 30px;\"> b.</span> Un ajustement affine de ce nuage semble-t-il pertinent ?"
   ]
  },
  {
   "cell_type": "markdown",
   "metadata": {},
   "source": [
    "## <span style=\"font-size:1.3em;font-weight:bold;padding-right: 30px;\"> 2.</span> Nouvelle série statistique $\\left(z_i\\right)$"
   ]
  },
  {
   "cell_type": "markdown",
   "metadata": {},
   "source": [
    "<span style=\"font-size:2em;font-weight:bold;padding-right: 30px;\"> a. </span> Construire la liste <code style=\"background-color:white;font-size:1.3em;\">Z</code> des $z_i=\\dfrac{750}{750-y_i}$. "
   ]
  },
  {
   "cell_type": "code",
   "execution_count": 2,
   "metadata": {},
   "outputs": [],
   "source": [
    "Z = [750 / (750 - y) for y in Y]"
   ]
  },
  {
   "cell_type": "markdown",
   "metadata": {},
   "source": [
    "<span style=\"font-size:2em;font-weight:bold;padding-right: 30px;\"> b. </span> Compléter le code suivant pour représenter le nuage des points $\\left(y_i\\,;\\,z_i\\right)$."
   ]
  },
  {
   "cell_type": "code",
   "execution_count": 3,
   "metadata": {},
   "outputs": [
    {
     "data": {
      "application/javascript": [
       "element.append(window.domNodeBus.pop(0));"
      ]
     },
     "metadata": {},
     "output_type": "display_data"
    }
   ],
   "source": [
    "plt.figure()\n",
    "plt.scatter(X, Z, s = 20)\n",
    "plt.grid()\n",
    "plt.show()"
   ]
  },
  {
   "cell_type": "markdown",
   "metadata": {},
   "source": [
    "<div style='background-color:#AAA;padding:10px;border-left: 1rem solid;margin-left: 20px;'>\n",
    "    <ul>\n",
    "        <li> Le nuage des points $\\left(x_i\\,;\\,z_i\\right)$ peut-être <b>ajustée</b> par une droite de &laquo; régression &raquo; d'équation $z=ax+b$</li>\n",
    "        <li> On peut utiliser la fonction <b>polyfit</b> du module <b>numpy</b> pour déterminer $a$ et $b$. </li>\n",
    "    </ul>\n",
    "</div>"
   ]
  },
  {
   "cell_type": "markdown",
   "metadata": {},
   "source": [
    "<span style=\"font-size:2em;font-weight:bold;padding-right: 30px;\"> c. </span> Exécuter le code suivant pour obtenir $a$ et $b$."
   ]
  },
  {
   "cell_type": "code",
   "execution_count": 4,
   "metadata": {},
   "outputs": [
    {
     "data": {
      "text/plain": [
       "(0.3562570724020199, 0.6657262822532048)"
      ]
     },
     "execution_count": 4,
     "metadata": {},
     "output_type": "execute_result"
    }
   ],
   "source": [
    "import numpy as np\n",
    "\n",
    "a, b = np.polyfit(X, Z, 1)\n",
    "a, b"
   ]
  },
  {
   "cell_type": "markdown",
   "metadata": {},
   "source": [
    "<span style=\"font-size:2em;font-weight:bold;padding-right: 30px;\"> d. </span> Pour ajouter la droite de &laquo; régression &raquo; au nuage des points $\\left(x_i\\,;\\,z_i\\right)$, exécuter le code suivant."
   ]
  },
  {
   "cell_type": "code",
   "execution_count": 5,
   "metadata": {},
   "outputs": [
    {
     "data": {
      "text/plain": [
       "[<matplotlib.lines.Line2D object at 0xf0509e8>]"
      ]
     },
     "execution_count": 5,
     "metadata": {},
     "output_type": "execute_result"
    }
   ],
   "source": [
    "plt.plot([1, 10], [a * 1 + b, a * 10 + b], color = 'red')"
   ]
  },
  {
   "cell_type": "markdown",
   "metadata": {},
   "source": [
    "## <span style=\"font-size:1.3em;font-weight:bold;padding-right: 30px;\"> 3.</span> Nouvel ajustement du nuage des points $\\left(x_i\\,;\\,y_i\\right)$"
   ]
  },
  {
   "cell_type": "markdown",
   "metadata": {},
   "source": [
    "<div style='background-color:#AAA;padding:10px;border-left: 1rem solid;margin-left: 20px;'>\n",
    "    Ce nuage de points peut être ajusté par la courbe d'une fonction $f$ d'équation $y=f(x)$.\n",
    "</div>"
   ]
  },
  {
   "cell_type": "markdown",
   "metadata": {},
   "source": [
    "<span style=\"font-size:2em;font-weight:bold;padding-right: 30px;\"> a. </span> En utilisant que\n",
    "<blockquote style=\"border-left: 3px solid black;background-color:white;margin-left: 65px;\">\n",
    "<ul>\n",
    "    <li> $z=ax+b$</li>\n",
    "    <li> $z=\\dfrac{750}{750-y}$</li>\n",
    "</ul>\n",
    "exprimer $y$ en fonction de $x$.\n",
    "</blockquote>"
   ]
  },
  {
   "cell_type": "markdown",
   "metadata": {},
   "source": [
    "<span style=\"font-size:2em;font-weight:bold;padding-right: 30px;\"> b. </span> Ecrire le code python de la fonction <code style=\"background-color:white;font-size:1.3em;\">f</code>."
   ]
  },
  {
   "cell_type": "code",
   "execution_count": 6,
   "metadata": {},
   "outputs": [],
   "source": [
    "def f(x):\n",
    "    return 750 - 750 / (a * x + b)"
   ]
  },
  {
   "cell_type": "markdown",
   "metadata": {},
   "source": [
    "<span style=\"font-size:2em;font-weight:bold;padding-right: 30px;\"> c. </span> Compléter le code suivant permettant de représenter la courbe de la fonction $f$ par-dessus le premier nuage de points."
   ]
  },
  {
   "cell_type": "code",
   "execution_count": 7,
   "metadata": {},
   "outputs": [
    {
     "data": {
      "text/plain": [
       "[<matplotlib.lines.Line2D object at 0x11fbd2e8>]"
      ]
     },
     "execution_count": 7,
     "metadata": {},
     "output_type": "execute_result"
    }
   ],
   "source": [
    "T = [k / 100 for k in range(1801)]\n",
    "L = [f(x) for x in T]\n",
    "ax.plot(T, L, color = 'red')"
   ]
  },
  {
   "cell_type": "markdown",
   "metadata": {},
   "source": [
    "## <span style=\"font-size:1.3em;font-weight:bold;padding-right: 30px;\"> 4.</span> Prédiction"
   ]
  },
  {
   "cell_type": "markdown",
   "metadata": {},
   "source": [
    "<blockquote style=\"border-left: 3px solid black;background-color:white;margin-left: 60px;\">\n",
    "    Prédire <b>selon ce modèle</b> d'ajustement, la quantité d'huîtres affectées par la bactérie en décembre 2020 chez cet ostréiculteur. <br><em>(Le mois de décembre est la période de vente la\n",
    "plus importante pour un ostréiculteur)</em>.\n",
    "<br><br><em>On arrondira le résultat à la dizaine de tonnes.</em>\n",
    "</blockquote>"
   ]
  },
  {
   "cell_type": "markdown",
   "metadata": {},
   "source": [
    "> Le rang de du mois de décembre 2020 est égal à 17.\n",
    " <br> Il s'agit donc de calculer $f(17)$ :"
   ]
  },
  {
   "cell_type": "code",
   "execution_count": 8,
   "metadata": {},
   "outputs": [
    {
     "data": {
      "text/plain": [
       "638.4276656040579"
      ]
     },
     "execution_count": 8,
     "metadata": {},
     "output_type": "execute_result"
    }
   ],
   "source": [
    "f(17)"
   ]
  },
  {
   "cell_type": "markdown",
   "metadata": {},
   "source": [
    "> Soit 64 dizaines de tonnes."
   ]
  },
  {
   "cell_type": "code",
   "execution_count": null,
   "metadata": {},
   "outputs": [],
   "source": []
  }
 ],
 "metadata": {
  "kernelspec": {
   "display_name": "Python 3",
   "language": "python",
   "name": "python3"
  },
  "language_info": {
   "codemirror_mode": {
    "name": "ipython",
    "version": 3
   },
   "file_extension": ".py",
   "mimetype": "text/x-python",
   "name": "python",
   "nbconvert_exporter": "python",
   "pygments_lexer": "ipython3",
   "version": "3.8.6"
  }
 },
 "nbformat": 4,
 "nbformat_minor": 2
}
