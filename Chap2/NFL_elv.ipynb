{
 "cells": [
  {
   "cell_type": "markdown",
   "metadata": {},
   "source": [
    "<img src=\"https://raw.githubusercontent.com/lyceeHM/Terminale_Spe/master/python_lycee.png\">\n",
    "<div id=\"titre\">\n",
    "<h1 style=\"color:white;\n",
    "  font-family:Comic Sans MS;\n",
    "  font-size:3em;\n",
    "  background-color:black;\n",
    "  text-align:center;\n",
    "  padding:5px\">Football - Américain</h1>\n",
    "<div style=\"font-family:Comic Sans MS; background-color:#888;box-shadow: 8px 8px 0px #aaa; text-align:center; width: 50%; color:white\">TSTMGM : Chapitre 2 - Regression linéaire</div>\n",
    "</div>"
   ]
  },
  {
   "cell_type": "markdown",
   "metadata": {},
   "source": [
    "<div style='background-color:#AAA;padding:10px;border-left: 1rem solid;'>\n",
    "   La National Football League NFL, est une association d'équipes professionnelles de football américain qui met a publié un jeu de données relatives aux joueurs (de 2013) : \n",
    "    <ul>\n",
    "        <li>le « quaterback » <b>QB</b> dirige l'attaque et communique la tactique choisie.            \n",
    "        </li>\n",
    "        <li>le « runing back » <b>RB</b> se place derrière la ligne offensive situé en position de recevoir le ballon du quart-arrière pour exécuter un jeu de course.</li>\n",
    "        <li>le « safety » <b>S</b> est le dernier rempart défensif de l'équipe, il peut être soit le « Free safety » soit le « Strong safety ».</li>\n",
    "    </ul>\n",
    "    <table>\n",
    "    <tbody>\n",
    "        <tr>\n",
    "            <td style=\"background-color:#AAA;border:none;text-align:left;font-size:1.2em;width:60%\">\n",
    "               <img src=\"https://upload.wikimedia.org/wikipedia/commons/thumb/b/be/Positions_American_Football.svg/700px-Positions_American_Football.svg.png\" width=\"600px\">\n",
    "            </td>\n",
    "            <td style=\"background-color:#AAA;border:none\"><img src=\"https://encrypted-tbn0.gstatic.com/images?q=tbn:ANd9GcSepauQ7YGiryRJyKx8SQnEF4bEQ7PjNIym6w&usqp=CAU\" width=\"300px\">\n",
    "                <br><img src=\"https://encrypted-tbn0.gstatic.com/images?q=tbn:ANd9GcQ-IxHP_T0gEGV6YA674M6auxb3crRu54mplQ&usqp=CAU\" width=\"300px\">\n",
    "            </td>\n",
    "        </tr>\n",
    "   </tbody>\n",
    "   </table>\n",
    "</div>"
   ]
  },
  {
   "cell_type": "markdown",
   "metadata": {},
   "source": [
    "<span style=\"font-size:2em;font-weight:bold;padding-right: 30px;\"> 1.</span> <b>Chargement du jeu de données</b>\n",
    "<blockquote style=\"border-left: 3px solid black;background-color:white;margin-left: 60px;\">\n",
    " Exécuter le code suivant pour utiliser le module <b>pandas</b> et créer la table <code style='background-color:white'>T</code> associée au fichier <b>NFL.csv</b>\n",
    "</blockquote>"
   ]
  },
  {
   "cell_type": "code",
   "execution_count": null,
   "metadata": {},
   "outputs": [],
   "source": [
    "import pandas as pa\n",
    "\n",
    "T = pa.read_csv('http://maths.bro.free.fr/Files/NFL.csv')\n",
    "T"
   ]
  },
  {
   "cell_type": "markdown",
   "metadata": {},
   "source": [
    "<div style='background-color:#AAA;padding:10px;border-left: 1rem solid;'>\n",
    "La hauteur est en centimètre et le poids en kilogramme. \n",
    "</div>"
   ]
  },
  {
   "cell_type": "markdown",
   "metadata": {},
   "source": [
    "<span style=\"font-size:2em;font-weight:bold;padding-right: 30px;\"> 2.</span> <b>Nuage de points et prédiction</b>\n",
    "<br><span style=\"font-size:1.7em;font-weight:bold;padding-right: 30px;\"> a.</span> Exécuter le code suivant pour représenter le nuage de points poids & hauteur et la droite dite de régression linéaire."
   ]
  },
  {
   "cell_type": "code",
   "execution_count": null,
   "metadata": {},
   "outputs": [],
   "source": [
    "import seaborn as sn\n",
    "\n",
    "sn.regplot(x = 'poids', y = 'hauteur', \n",
    "           data = T, ci = None)"
   ]
  },
  {
   "cell_type": "markdown",
   "metadata": {},
   "source": [
    "<span style=\"font-size:1.7em;font-weight:bold;padding-right: 30px;\"> b.</span> <b>Objectif :</b> Déterminons le coefficient directeur $a$ et l'ordonnée à l'origine $b$ de la droite de regression du nuage précédent.\n",
    "<blockquote style=\"border-left: 3px solid black;background-color:white;margin-left: 60px;\">\n",
    "Pour cela, on fait appel à la fonction <b>polyfit</b> du module <b>numpy</b>.\n",
    "<br> Compléter le code suivant, puis <em>arrondir ces nombres au centième près.</em>\n",
    "</blockquote>"
   ]
  },
  {
   "cell_type": "code",
   "execution_count": null,
   "metadata": {},
   "outputs": [],
   "source": [
    "from numpy import polyfit\n",
    "\n",
    "a, b = polyfit(T['poids'], T['...'], 1)\n",
    "a, b"
   ]
  },
  {
   "cell_type": "markdown",
   "metadata": {},
   "source": [
    "<span style=\"font-size:1.7em;font-weight:bold;padding-right: 30px;\"> c.</span> Selon ce modèle, combien mesure un joueur qui pèse 115 kg ? "
   ]
  },
  {
   "cell_type": "code",
   "execution_count": null,
   "metadata": {},
   "outputs": [],
   "source": [
    "..."
   ]
  },
  {
   "cell_type": "markdown",
   "metadata": {},
   "source": [
    "<span style=\"font-size:1.7em;font-weight:bold;padding-right: 30px;\"> d.</span> Selon ce modèle, déterminer le poids d'un joueur pour une hauteur minimale de 1,95 mètres. "
   ]
  },
  {
   "cell_type": "code",
   "execution_count": null,
   "metadata": {},
   "outputs": [],
   "source": [
    "..."
   ]
  },
  {
   "cell_type": "markdown",
   "metadata": {},
   "source": [
    "<span style=\"font-size:2em;font-weight:bold;padding-right: 30px;\"> 3.</span> <b>Comparaisons entre joueurs</b>"
   ]
  },
  {
   "cell_type": "markdown",
   "metadata": {},
   "source": [
    "<span style=\"font-size:1.7em;font-weight:bold;padding-right: 30px;\"> a.</span> Exécuter le code suivant."
   ]
  },
  {
   "cell_type": "code",
   "execution_count": null,
   "metadata": {},
   "outputs": [],
   "source": [
    "sn.lmplot(x = 'poids', y = 'hauteur', data = T,\n",
    "          markers = ['o', '^', 'x'],\n",
    "          palette = ['green', 'black', 'chocolate'],\n",
    "          hue = 'role', ci = None)"
   ]
  },
  {
   "cell_type": "markdown",
   "metadata": {},
   "source": [
    "<span style=\"font-size:1.7em;font-weight:bold;padding-right: 30px;\"> b.</span> <u>A poids égal</u>, parmi 3 joueurs <b>QB</b>, <b>RB</b>, <b>S</b>, lequel est-il en général le plus haut ?\n",
    "<br>\n",
    "<br><span style=\"font-size:1.7em;font-weight:bold;padding-right: 30px;\"> c.</span> <u>A poids égal</u>, parmi 3 joueurs <b>QB</b>, <b>RB</b>, <b>S</b>, lequel est-il en général le moins haut ?\n",
    "<br>\n",
    "<br><span style=\"font-size:1.7em;font-weight:bold;padding-right: 30px;\"> d.</span>&nbsp; <u>A hauteur égale</u>, parmi 3 joueurs <b>QB</b>, <b>RB</b>, <b>S</b>, lequel est-il en général le plus lourd ?\n",
    "<br>\n",
    "<br><span style=\"font-size:1.7em;font-weight:bold;padding-right: 30px;\"> e.</span>&nbsp; <u>A hauteur égale</u>, parmi 3 joueurs <b>QB</b>, <b>RB</b>, <b>S</b>, lequel est-il en général le moins lourd ?"
   ]
  },
  {
   "cell_type": "markdown",
   "metadata": {},
   "source": [
    "<br><span style=\"font-size:1.7em;font-weight:bold;padding-right: 30px;\"> f.</span>&nbsp; Sélectionner les bonnes réponses :\n",
    "<blockquote style=\"border-left: 3px solid black;background-color:white;margin-left: 60px;\">\n",
    "    <ul>\n",
    "        <li>Pour 3 joueurs <b>QB</b>, <b>RB</b> et <b>S</b> différents, un QuaterBack <b>QB</b> est en général le <span style=\"color:red\">(moins / plus)</span> lourd et le plus <span style=\"color:red\">(moins / plus)</span> des 3.</li>\n",
    "        <li>Pour 3 joueurs <b>QB</b>, <b>RB</b> et <b>S</b> différents, un Running Back <b>RB</b> est en général le <span style=\"color:red\">(moins / plus)</span> lourd et le moins <span style=\"color:red\">(moins / plus)</span> des 3.</li>\n",
    "    </ul>\n",
    "</blockquote>"
   ]
  },
  {
   "cell_type": "code",
   "execution_count": null,
   "metadata": {},
   "outputs": [],
   "source": []
  }
 ],
 "metadata": {
  "kernelspec": {
   "display_name": "Python 3",
   "language": "python",
   "name": "python3"
  },
  "language_info": {
   "codemirror_mode": {
    "name": "ipython",
    "version": 3
   },
   "file_extension": ".py",
   "mimetype": "text/x-python",
   "name": "python",
   "nbconvert_exporter": "python",
   "pygments_lexer": "ipython3",
   "version": "3.8.6"
  }
 },
 "nbformat": 4,
 "nbformat_minor": 4
}
