{
 "cells": [
  {
   "cell_type": "markdown",
   "metadata": {},
   "source": [
    "<img src=\"https://raw.githubusercontent.com/lyceeHM/Terminale_Spe/master/python_lycee.png\">\n",
    "<div id=\"titre\">\n",
    "<h1 style=\"color:white;\n",
    "  font-family:Comic Sans MS;\n",
    "  font-size:3em;\n",
    "  background-color:black;\n",
    "  text-align:center;\n",
    "  padding:5px\">Vers un ajustement non affine II</h1>\n",
    "<div style=\"font-family:Comic Sans MS; background-color:#888;box-shadow: 8px 8px 0px #aaa; text-align:center; width: 50%; color:white\">TSTMGM : Chapitre 2 - Regression linéaire</div>\n",
    "</div>"
   ]
  },
  {
   "cell_type": "markdown",
   "metadata": {},
   "source": [
    "<div style='background-color:#AAA;padding:10px;border-left: 1rem solid'>\n",
    "    Un chef d'entreprise a acquis un nouveau matériel pour la\n",
    "somme de $45\\, 000$ €. <br>À la fin de chaque mois, on note $y$; le montant des bénéfices cumulés réalisés depuis l'achat du matériel\n",
    "(en milliers d'euros, en abrégé : k€). <br>On donne ci-dessous le\n",
    "relevé des 9 premiers mois de remboursement.\n",
    "    <br>\n",
    "    <table>\n",
    "    <tbody>\n",
    "        <tr>\n",
    "            <td style=\"background-color:white;border: 1px solid black;\">Rang du mois $x_i$</td>\n",
    "            <td style=\"background-color:white;border: 1px solid black;text-align:center;width:50px\">$1$</td>\n",
    "            <td style=\"background-color:white;border: 1px solid black;text-align:center;width:50px\">$2$</td>\n",
    "            <td style=\"background-color:white;border: 1px solid black;text-align:center;width:50px\">$3$</td>\n",
    "            <td style=\"background-color:white;border: 1px solid black;text-align:center;width:50px\">$4$</td>\n",
    "            <td style=\"background-color:white;border: 1px solid black;text-align:center;width:50px\">$5$</td>\n",
    "            <td style=\"background-color:white;border: 1px solid black;text-align:center;width:50px\">$6$</td>\n",
    "            <td style=\"background-color:white;border: 1px solid black;text-align:center;width:50px\">$7$</td>\n",
    "            <td style=\"background-color:white;border: 1px solid black;text-align:center;width:50px\">$8$</td>\n",
    "            <td style=\"background-color:white;border: 1px solid black;text-align:center;width:50px\">$9$</td>\n",
    "        </tr>\n",
    "        <tr>\n",
    "            <td style=\"background-color:white;border: 1px solid black;width:200px\">Montant des bénéfices cumulés $y_i$ (en k€)</td>\n",
    "            <td style=\"background-color:white;border: 1px solid black;text-align:center;width:50px\">$3,5$</td>\n",
    "            <td style=\"background-color:white;border: 1px solid black;text-align:center;width:50px\">$6$</td>\n",
    "            <td style=\"background-color:white;border: 1px solid black;text-align:center;width:50px\">$8$</td>\n",
    "            <td style=\"background-color:white;border: 1px solid black;text-align:center;width:50px\">$9$</td>\n",
    "            <td style=\"background-color:white;border: 1px solid black;text-align:center;width:50px\">$11,5$</td>\n",
    "            <td style=\"background-color:white;border: 1px solid black;text-align:center;width:50px\">$12,5$</td>\n",
    "            <td style=\"background-color:white;border: 1px solid black;text-align:center;width:50px\">$14$</td>\n",
    "            <td style=\"background-color:white;border: 1px solid black;text-align:center;width:50px\">$15$</td>\n",
    "            <td style=\"background-color:white;border: 1px solid black;text-align:center;width:50px\">$16,5$</td>\n",
    "        </tr>\n",
    "    </tbody>\n",
    "</table>\n",
    "  <br>Le numéro 1 correspond au mois d'août 2019, le numéro 2 correspond au mois de septembre 2019 et ainsi de suite.\n",
    "</div>"
   ]
  },
  {
   "cell_type": "markdown",
   "metadata": {},
   "source": [
    "## <span style=\"font-size:1.3em;font-weight:bold;padding-right: 30px;\"> 1.</span> Représentation du nuage de points"
   ]
  },
  {
   "cell_type": "markdown",
   "metadata": {},
   "source": [
    "Compléter le code suivant pour représenter le nuage des points $\\left(x_i\\,;\\,y_i\\right)$."
   ]
  },
  {
   "cell_type": "code",
   "execution_count": null,
   "metadata": {},
   "outputs": [],
   "source": [
    "import matplotlib.pyplot as plt\n",
    "\n",
    "X = [k for k in range(..., ...)]\n",
    "Y = [3.5, ...]\n",
    "\n",
    "fig, ax = plt.subplots()\n",
    "ax.scatter(X, Y, s = 20)\n",
    "ax.grid()\n",
    "plt.show()"
   ]
  },
  {
   "cell_type": "markdown",
   "metadata": {},
   "source": [
    "<div style='background-color:#AAA;padding:10px;border-left: 1rem solid;margin-left: 20px;'>\n",
    "    Ajuster ce nuage par une droite n'est pas des plus pertinents, on envisage une croissance non linéaire et plus lente sur le temps. \n",
    "</div>"
   ]
  },
  {
   "cell_type": "markdown",
   "metadata": {},
   "source": [
    "## <span style=\"font-size:1.3em;font-weight:bold;padding-right: 30px;\"> 2.</span> Nouvelle série statistique $\\left(t_i\\right)$"
   ]
  },
  {
   "cell_type": "markdown",
   "metadata": {},
   "source": [
    "<span style=\"font-size:2em;font-weight:bold;padding-right: 30px;\"> a. </span> Construire la liste <code style=\"background-color:white;font-size:1.3em;\">T</code> des $t_i=\\sqrt{x_i}$ soit $t_i=x_i^{0,5}$. "
   ]
  },
  {
   "cell_type": "code",
   "execution_count": null,
   "metadata": {},
   "outputs": [],
   "source": [
    "T = [... for x in X]"
   ]
  },
  {
   "cell_type": "markdown",
   "metadata": {},
   "source": [
    "<span style=\"font-size:2em;font-weight:bold;padding-right: 30px;\"> b. </span> Compléter le code suivant pour représenter le nuage des points $\\left(t_i\\,;\\,y_i\\right)$."
   ]
  },
  {
   "cell_type": "code",
   "execution_count": null,
   "metadata": {},
   "outputs": [],
   "source": [
    "plt.figure()\n",
    "plt.scatter(..., ..., s = 20)\n",
    "plt.grid()\n",
    "plt.show()"
   ]
  },
  {
   "cell_type": "markdown",
   "metadata": {},
   "source": [
    "<div style='background-color:#AAA;padding:10px;border-left: 1rem solid;margin-left: 20px;'>\n",
    "    <ul>\n",
    "        <li> Le nuage des points $\\left(t_i\\,;\\,y_i\\right)$ peut-être <b>ajustée</b> par une droite de &laquo; régression &raquo; d'équation $y=at+b$</li>\n",
    "        <li> On peut utiliser la fonction <b>polyfit</b> du module <b>numpy</b> pour déterminer $a$ et $b$. </li>\n",
    "    </ul>\n",
    "</div>"
   ]
  },
  {
   "cell_type": "markdown",
   "metadata": {},
   "source": [
    "<span style=\"font-size:2em;font-weight:bold;padding-right: 30px;\"> c. </span> Exécuter le code suivant pour obtenir $a$ et $b$."
   ]
  },
  {
   "cell_type": "code",
   "execution_count": null,
   "metadata": {},
   "outputs": [],
   "source": [
    "import numpy as np\n",
    "\n",
    "a, b = np.polyfit(.., ..., 1)\n",
    "a, b"
   ]
  },
  {
   "cell_type": "markdown",
   "metadata": {},
   "source": [
    "<span style=\"font-size:2em;font-weight:bold;padding-right: 30px;\"> d. </span> Pour ajouter la droite de &laquo; régression &raquo; au nuage des points $\\left(t_i\\,;\\,y_i\\right)$, exécuter le code suivant."
   ]
  },
  {
   "cell_type": "code",
   "execution_count": null,
   "metadata": {},
   "outputs": [],
   "source": [
    "plt.plot([1, 3], [a * 1 + b, a * 3 + b], color = 'red')"
   ]
  },
  {
   "cell_type": "markdown",
   "metadata": {},
   "source": [
    "## <span style=\"font-size:1.3em;font-weight:bold;padding-right: 30px;\"> 3.</span> Nouvel ajustement du nuage des points $\\left(x_i\\,;\\,y_i\\right)$"
   ]
  },
  {
   "cell_type": "markdown",
   "metadata": {},
   "source": [
    "<div style='background-color:#AAA;padding:10px;border-left: 1rem solid;margin-left: 20px;'>\n",
    "    Ce nuage de points peut être ajusté par la courbe d'une fonction $f$ d'équation $y=f(t)$.\n",
    "</div>"
   ]
  },
  {
   "cell_type": "markdown",
   "metadata": {},
   "source": [
    "<span style=\"font-size:2em;font-weight:bold;padding-right: 30px;\"> a. </span> En utilisant que\n",
    "<blockquote style=\"border-left: 3px solid black;background-color:white;margin-left: 65px;\">\n",
    "<ul>\n",
    "    <li> $y=at+b$</li>\n",
    "    <li> $t=\\sqrt{x}$</li>\n",
    "</ul>\n",
    "exprimer $y$ en fonction de $x$.\n",
    "</blockquote>"
   ]
  },
  {
   "cell_type": "markdown",
   "metadata": {},
   "source": [
    "<span style=\"font-size:2em;font-weight:bold;padding-right: 30px;\"> b. </span> Ecrire le code python de la fonction <code style=\"background-color:white;font-size:1.3em;\">f</code>."
   ]
  },
  {
   "cell_type": "code",
   "execution_count": null,
   "metadata": {},
   "outputs": [],
   "source": [
    "def f(x):\n",
    "    return ..."
   ]
  },
  {
   "cell_type": "markdown",
   "metadata": {},
   "source": [
    "<span style=\"font-size:2em;font-weight:bold;padding-right: 30px;\"> c. </span> Compléter le code suivant permettant de représenter la courbe de la fonction $f$ par-dessus le premier nuage de points."
   ]
  },
  {
   "cell_type": "code",
   "execution_count": null,
   "metadata": {},
   "outputs": [],
   "source": [
    "XX = [k / 100 for k in range(1001)]\n",
    "L = [... for x in XX]\n",
    "ax.plot(T, L, color = 'red')"
   ]
  },
  {
   "cell_type": "markdown",
   "metadata": {},
   "source": [
    "## <span style=\"font-size:1.3em;font-weight:bold;padding-right: 30px;\"> 4.</span> Prédiction"
   ]
  },
  {
   "cell_type": "markdown",
   "metadata": {},
   "source": [
    "<blockquote style=\"border-left: 3px solid black;background-color:white;margin-left: 60px;\">\n",
    "    Prédire <b>selon ce modèle</b> d'ajustement, le nombre de mois nécessaire à l'amortissement du matériel acquis.\n",
    "</blockquote>"
   ]
  }
 ],
 "metadata": {
  "kernelspec": {
   "display_name": "Python 3",
   "language": "python",
   "name": "python3"
  },
  "language_info": {
   "codemirror_mode": {
    "name": "ipython",
    "version": 3
   },
   "file_extension": ".py",
   "mimetype": "text/x-python",
   "name": "python",
   "nbconvert_exporter": "python",
   "pygments_lexer": "ipython3",
   "version": "3.8.6"
  }
 },
 "nbformat": 4,
 "nbformat_minor": 2
}
